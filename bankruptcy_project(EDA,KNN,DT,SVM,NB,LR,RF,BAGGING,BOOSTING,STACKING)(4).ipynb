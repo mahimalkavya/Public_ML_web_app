{
  "cells": [
    {
      "cell_type": "markdown",
      "id": "eac01b72",
      "metadata": {
        "id": "eac01b72"
      },
      "source": [
        "# import libraries"
      ]
    },
    {
      "cell_type": "code",
      "execution_count": null,
      "id": "a7fe4933",
      "metadata": {
        "id": "a7fe4933"
      },
      "outputs": [],
      "source": [
        "import pandas as pd\n",
        "import numpy as np\n",
        "import matplotlib.pyplot as plt\n",
        "import seaborn as sns\n",
        "import warnings\n",
        "warnings.filterwarnings('ignore')"
      ]
    },
    {
      "cell_type": "markdown",
      "id": "6cbbcabe",
      "metadata": {
        "id": "6cbbcabe"
      },
      "source": [
        "# Importing the Bankrupt Dataset"
      ]
    },
    {
      "cell_type": "code",
      "execution_count": null,
      "id": "3ac3186a",
      "metadata": {
        "colab": {
          "base_uri": "https://localhost:8080/",
          "height": 424
        },
        "id": "3ac3186a",
        "outputId": "56000493-fe90-4713-b3c6-e621dd692b42"
      },
      "outputs": [
        {
          "output_type": "execute_result",
          "data": {
            "text/plain": [
              "     industrial_risk   management_risk   financial_flexibility   credibility  \\\n",
              "0                0.5               1.0                     0.0           0.0   \n",
              "1                0.0               1.0                     0.0           0.0   \n",
              "2                1.0               0.0                     0.0           0.0   \n",
              "3                0.5               0.0                     0.0           0.5   \n",
              "4                1.0               1.0                     0.0           0.0   \n",
              "..               ...               ...                     ...           ...   \n",
              "245              0.0               1.0                     1.0           1.0   \n",
              "246              1.0               1.0                     0.5           1.0   \n",
              "247              0.0               1.0                     1.0           0.5   \n",
              "248              1.0               0.0                     0.5           1.0   \n",
              "249              1.0               0.0                     0.5           0.5   \n",
              "\n",
              "      competitiveness   operating_risk           class  \n",
              "0                 0.0              0.5      bankruptcy  \n",
              "1                 0.0              1.0      bankruptcy  \n",
              "2                 0.0              1.0      bankruptcy  \n",
              "3                 0.0              1.0      bankruptcy  \n",
              "4                 0.0              1.0      bankruptcy  \n",
              "..                ...              ...             ...  \n",
              "245               1.0              1.0  non-bankruptcy  \n",
              "246               1.0              0.0  non-bankruptcy  \n",
              "247               0.5              0.0  non-bankruptcy  \n",
              "248               0.5              0.0  non-bankruptcy  \n",
              "249               1.0              1.0  non-bankruptcy  \n",
              "\n",
              "[250 rows x 7 columns]"
            ],
            "text/html": [
              "\n",
              "  <div id=\"df-938ce4cd-198a-41fe-95b8-d624e2ff634d\">\n",
              "    <div class=\"colab-df-container\">\n",
              "      <div>\n",
              "<style scoped>\n",
              "    .dataframe tbody tr th:only-of-type {\n",
              "        vertical-align: middle;\n",
              "    }\n",
              "\n",
              "    .dataframe tbody tr th {\n",
              "        vertical-align: top;\n",
              "    }\n",
              "\n",
              "    .dataframe thead th {\n",
              "        text-align: right;\n",
              "    }\n",
              "</style>\n",
              "<table border=\"1\" class=\"dataframe\">\n",
              "  <thead>\n",
              "    <tr style=\"text-align: right;\">\n",
              "      <th></th>\n",
              "      <th>industrial_risk</th>\n",
              "      <th>management_risk</th>\n",
              "      <th>financial_flexibility</th>\n",
              "      <th>credibility</th>\n",
              "      <th>competitiveness</th>\n",
              "      <th>operating_risk</th>\n",
              "      <th>class</th>\n",
              "    </tr>\n",
              "  </thead>\n",
              "  <tbody>\n",
              "    <tr>\n",
              "      <th>0</th>\n",
              "      <td>0.5</td>\n",
              "      <td>1.0</td>\n",
              "      <td>0.0</td>\n",
              "      <td>0.0</td>\n",
              "      <td>0.0</td>\n",
              "      <td>0.5</td>\n",
              "      <td>bankruptcy</td>\n",
              "    </tr>\n",
              "    <tr>\n",
              "      <th>1</th>\n",
              "      <td>0.0</td>\n",
              "      <td>1.0</td>\n",
              "      <td>0.0</td>\n",
              "      <td>0.0</td>\n",
              "      <td>0.0</td>\n",
              "      <td>1.0</td>\n",
              "      <td>bankruptcy</td>\n",
              "    </tr>\n",
              "    <tr>\n",
              "      <th>2</th>\n",
              "      <td>1.0</td>\n",
              "      <td>0.0</td>\n",
              "      <td>0.0</td>\n",
              "      <td>0.0</td>\n",
              "      <td>0.0</td>\n",
              "      <td>1.0</td>\n",
              "      <td>bankruptcy</td>\n",
              "    </tr>\n",
              "    <tr>\n",
              "      <th>3</th>\n",
              "      <td>0.5</td>\n",
              "      <td>0.0</td>\n",
              "      <td>0.0</td>\n",
              "      <td>0.5</td>\n",
              "      <td>0.0</td>\n",
              "      <td>1.0</td>\n",
              "      <td>bankruptcy</td>\n",
              "    </tr>\n",
              "    <tr>\n",
              "      <th>4</th>\n",
              "      <td>1.0</td>\n",
              "      <td>1.0</td>\n",
              "      <td>0.0</td>\n",
              "      <td>0.0</td>\n",
              "      <td>0.0</td>\n",
              "      <td>1.0</td>\n",
              "      <td>bankruptcy</td>\n",
              "    </tr>\n",
              "    <tr>\n",
              "      <th>...</th>\n",
              "      <td>...</td>\n",
              "      <td>...</td>\n",
              "      <td>...</td>\n",
              "      <td>...</td>\n",
              "      <td>...</td>\n",
              "      <td>...</td>\n",
              "      <td>...</td>\n",
              "    </tr>\n",
              "    <tr>\n",
              "      <th>245</th>\n",
              "      <td>0.0</td>\n",
              "      <td>1.0</td>\n",
              "      <td>1.0</td>\n",
              "      <td>1.0</td>\n",
              "      <td>1.0</td>\n",
              "      <td>1.0</td>\n",
              "      <td>non-bankruptcy</td>\n",
              "    </tr>\n",
              "    <tr>\n",
              "      <th>246</th>\n",
              "      <td>1.0</td>\n",
              "      <td>1.0</td>\n",
              "      <td>0.5</td>\n",
              "      <td>1.0</td>\n",
              "      <td>1.0</td>\n",
              "      <td>0.0</td>\n",
              "      <td>non-bankruptcy</td>\n",
              "    </tr>\n",
              "    <tr>\n",
              "      <th>247</th>\n",
              "      <td>0.0</td>\n",
              "      <td>1.0</td>\n",
              "      <td>1.0</td>\n",
              "      <td>0.5</td>\n",
              "      <td>0.5</td>\n",
              "      <td>0.0</td>\n",
              "      <td>non-bankruptcy</td>\n",
              "    </tr>\n",
              "    <tr>\n",
              "      <th>248</th>\n",
              "      <td>1.0</td>\n",
              "      <td>0.0</td>\n",
              "      <td>0.5</td>\n",
              "      <td>1.0</td>\n",
              "      <td>0.5</td>\n",
              "      <td>0.0</td>\n",
              "      <td>non-bankruptcy</td>\n",
              "    </tr>\n",
              "    <tr>\n",
              "      <th>249</th>\n",
              "      <td>1.0</td>\n",
              "      <td>0.0</td>\n",
              "      <td>0.5</td>\n",
              "      <td>0.5</td>\n",
              "      <td>1.0</td>\n",
              "      <td>1.0</td>\n",
              "      <td>non-bankruptcy</td>\n",
              "    </tr>\n",
              "  </tbody>\n",
              "</table>\n",
              "<p>250 rows × 7 columns</p>\n",
              "</div>\n",
              "      <button class=\"colab-df-convert\" onclick=\"convertToInteractive('df-938ce4cd-198a-41fe-95b8-d624e2ff634d')\"\n",
              "              title=\"Convert this dataframe to an interactive table.\"\n",
              "              style=\"display:none;\">\n",
              "        \n",
              "  <svg xmlns=\"http://www.w3.org/2000/svg\" height=\"24px\"viewBox=\"0 0 24 24\"\n",
              "       width=\"24px\">\n",
              "    <path d=\"M0 0h24v24H0V0z\" fill=\"none\"/>\n",
              "    <path d=\"M18.56 5.44l.94 2.06.94-2.06 2.06-.94-2.06-.94-.94-2.06-.94 2.06-2.06.94zm-11 1L8.5 8.5l.94-2.06 2.06-.94-2.06-.94L8.5 2.5l-.94 2.06-2.06.94zm10 10l.94 2.06.94-2.06 2.06-.94-2.06-.94-.94-2.06-.94 2.06-2.06.94z\"/><path d=\"M17.41 7.96l-1.37-1.37c-.4-.4-.92-.59-1.43-.59-.52 0-1.04.2-1.43.59L10.3 9.45l-7.72 7.72c-.78.78-.78 2.05 0 2.83L4 21.41c.39.39.9.59 1.41.59.51 0 1.02-.2 1.41-.59l7.78-7.78 2.81-2.81c.8-.78.8-2.07 0-2.86zM5.41 20L4 18.59l7.72-7.72 1.47 1.35L5.41 20z\"/>\n",
              "  </svg>\n",
              "      </button>\n",
              "      \n",
              "  <style>\n",
              "    .colab-df-container {\n",
              "      display:flex;\n",
              "      flex-wrap:wrap;\n",
              "      gap: 12px;\n",
              "    }\n",
              "\n",
              "    .colab-df-convert {\n",
              "      background-color: #E8F0FE;\n",
              "      border: none;\n",
              "      border-radius: 50%;\n",
              "      cursor: pointer;\n",
              "      display: none;\n",
              "      fill: #1967D2;\n",
              "      height: 32px;\n",
              "      padding: 0 0 0 0;\n",
              "      width: 32px;\n",
              "    }\n",
              "\n",
              "    .colab-df-convert:hover {\n",
              "      background-color: #E2EBFA;\n",
              "      box-shadow: 0px 1px 2px rgba(60, 64, 67, 0.3), 0px 1px 3px 1px rgba(60, 64, 67, 0.15);\n",
              "      fill: #174EA6;\n",
              "    }\n",
              "\n",
              "    [theme=dark] .colab-df-convert {\n",
              "      background-color: #3B4455;\n",
              "      fill: #D2E3FC;\n",
              "    }\n",
              "\n",
              "    [theme=dark] .colab-df-convert:hover {\n",
              "      background-color: #434B5C;\n",
              "      box-shadow: 0px 1px 3px 1px rgba(0, 0, 0, 0.15);\n",
              "      filter: drop-shadow(0px 1px 2px rgba(0, 0, 0, 0.3));\n",
              "      fill: #FFFFFF;\n",
              "    }\n",
              "  </style>\n",
              "\n",
              "      <script>\n",
              "        const buttonEl =\n",
              "          document.querySelector('#df-938ce4cd-198a-41fe-95b8-d624e2ff634d button.colab-df-convert');\n",
              "        buttonEl.style.display =\n",
              "          google.colab.kernel.accessAllowed ? 'block' : 'none';\n",
              "\n",
              "        async function convertToInteractive(key) {\n",
              "          const element = document.querySelector('#df-938ce4cd-198a-41fe-95b8-d624e2ff634d');\n",
              "          const dataTable =\n",
              "            await google.colab.kernel.invokeFunction('convertToInteractive',\n",
              "                                                     [key], {});\n",
              "          if (!dataTable) return;\n",
              "\n",
              "          const docLinkHtml = 'Like what you see? Visit the ' +\n",
              "            '<a target=\"_blank\" href=https://colab.research.google.com/notebooks/data_table.ipynb>data table notebook</a>'\n",
              "            + ' to learn more about interactive tables.';\n",
              "          element.innerHTML = '';\n",
              "          dataTable['output_type'] = 'display_data';\n",
              "          await google.colab.output.renderOutput(dataTable, element);\n",
              "          const docLink = document.createElement('div');\n",
              "          docLink.innerHTML = docLinkHtml;\n",
              "          element.appendChild(docLink);\n",
              "        }\n",
              "      </script>\n",
              "    </div>\n",
              "  </div>\n",
              "  "
            ]
          },
          "metadata": {},
          "execution_count": 6
        }
      ],
      "source": [
        "bankrupt = pd.read_csv(\"/content/bankruptcy-prevention(1).csv\",sep=';')\n",
        "bankrupt"
      ]
    },
    {
      "cell_type": "code",
      "execution_count": null,
      "id": "dffdbcb9",
      "metadata": {
        "colab": {
          "base_uri": "https://localhost:8080/",
          "height": 300
        },
        "id": "dffdbcb9",
        "outputId": "f5a66dd6-e3c9-4a69-e436-31f35e83d5a2"
      },
      "outputs": [
        {
          "output_type": "execute_result",
          "data": {
            "text/plain": [
              "       industrial_risk   management_risk   financial_flexibility  \\\n",
              "count       250.000000        250.000000              250.000000   \n",
              "mean          0.518000          0.614000                0.376000   \n",
              "std           0.411526          0.410705                0.401583   \n",
              "min           0.000000          0.000000                0.000000   \n",
              "25%           0.000000          0.500000                0.000000   \n",
              "50%           0.500000          0.500000                0.500000   \n",
              "75%           1.000000          1.000000                0.500000   \n",
              "max           1.000000          1.000000                1.000000   \n",
              "\n",
              "        credibility   competitiveness   operating_risk  \n",
              "count    250.000000        250.000000       250.000000  \n",
              "mean       0.470000          0.476000         0.570000  \n",
              "std        0.415682          0.440682         0.434575  \n",
              "min        0.000000          0.000000         0.000000  \n",
              "25%        0.000000          0.000000         0.000000  \n",
              "50%        0.500000          0.500000         0.500000  \n",
              "75%        1.000000          1.000000         1.000000  \n",
              "max        1.000000          1.000000         1.000000  "
            ],
            "text/html": [
              "\n",
              "  <div id=\"df-3f445ae3-e20b-4272-921a-e71fb845b017\">\n",
              "    <div class=\"colab-df-container\">\n",
              "      <div>\n",
              "<style scoped>\n",
              "    .dataframe tbody tr th:only-of-type {\n",
              "        vertical-align: middle;\n",
              "    }\n",
              "\n",
              "    .dataframe tbody tr th {\n",
              "        vertical-align: top;\n",
              "    }\n",
              "\n",
              "    .dataframe thead th {\n",
              "        text-align: right;\n",
              "    }\n",
              "</style>\n",
              "<table border=\"1\" class=\"dataframe\">\n",
              "  <thead>\n",
              "    <tr style=\"text-align: right;\">\n",
              "      <th></th>\n",
              "      <th>industrial_risk</th>\n",
              "      <th>management_risk</th>\n",
              "      <th>financial_flexibility</th>\n",
              "      <th>credibility</th>\n",
              "      <th>competitiveness</th>\n",
              "      <th>operating_risk</th>\n",
              "    </tr>\n",
              "  </thead>\n",
              "  <tbody>\n",
              "    <tr>\n",
              "      <th>count</th>\n",
              "      <td>250.000000</td>\n",
              "      <td>250.000000</td>\n",
              "      <td>250.000000</td>\n",
              "      <td>250.000000</td>\n",
              "      <td>250.000000</td>\n",
              "      <td>250.000000</td>\n",
              "    </tr>\n",
              "    <tr>\n",
              "      <th>mean</th>\n",
              "      <td>0.518000</td>\n",
              "      <td>0.614000</td>\n",
              "      <td>0.376000</td>\n",
              "      <td>0.470000</td>\n",
              "      <td>0.476000</td>\n",
              "      <td>0.570000</td>\n",
              "    </tr>\n",
              "    <tr>\n",
              "      <th>std</th>\n",
              "      <td>0.411526</td>\n",
              "      <td>0.410705</td>\n",
              "      <td>0.401583</td>\n",
              "      <td>0.415682</td>\n",
              "      <td>0.440682</td>\n",
              "      <td>0.434575</td>\n",
              "    </tr>\n",
              "    <tr>\n",
              "      <th>min</th>\n",
              "      <td>0.000000</td>\n",
              "      <td>0.000000</td>\n",
              "      <td>0.000000</td>\n",
              "      <td>0.000000</td>\n",
              "      <td>0.000000</td>\n",
              "      <td>0.000000</td>\n",
              "    </tr>\n",
              "    <tr>\n",
              "      <th>25%</th>\n",
              "      <td>0.000000</td>\n",
              "      <td>0.500000</td>\n",
              "      <td>0.000000</td>\n",
              "      <td>0.000000</td>\n",
              "      <td>0.000000</td>\n",
              "      <td>0.000000</td>\n",
              "    </tr>\n",
              "    <tr>\n",
              "      <th>50%</th>\n",
              "      <td>0.500000</td>\n",
              "      <td>0.500000</td>\n",
              "      <td>0.500000</td>\n",
              "      <td>0.500000</td>\n",
              "      <td>0.500000</td>\n",
              "      <td>0.500000</td>\n",
              "    </tr>\n",
              "    <tr>\n",
              "      <th>75%</th>\n",
              "      <td>1.000000</td>\n",
              "      <td>1.000000</td>\n",
              "      <td>0.500000</td>\n",
              "      <td>1.000000</td>\n",
              "      <td>1.000000</td>\n",
              "      <td>1.000000</td>\n",
              "    </tr>\n",
              "    <tr>\n",
              "      <th>max</th>\n",
              "      <td>1.000000</td>\n",
              "      <td>1.000000</td>\n",
              "      <td>1.000000</td>\n",
              "      <td>1.000000</td>\n",
              "      <td>1.000000</td>\n",
              "      <td>1.000000</td>\n",
              "    </tr>\n",
              "  </tbody>\n",
              "</table>\n",
              "</div>\n",
              "      <button class=\"colab-df-convert\" onclick=\"convertToInteractive('df-3f445ae3-e20b-4272-921a-e71fb845b017')\"\n",
              "              title=\"Convert this dataframe to an interactive table.\"\n",
              "              style=\"display:none;\">\n",
              "        \n",
              "  <svg xmlns=\"http://www.w3.org/2000/svg\" height=\"24px\"viewBox=\"0 0 24 24\"\n",
              "       width=\"24px\">\n",
              "    <path d=\"M0 0h24v24H0V0z\" fill=\"none\"/>\n",
              "    <path d=\"M18.56 5.44l.94 2.06.94-2.06 2.06-.94-2.06-.94-.94-2.06-.94 2.06-2.06.94zm-11 1L8.5 8.5l.94-2.06 2.06-.94-2.06-.94L8.5 2.5l-.94 2.06-2.06.94zm10 10l.94 2.06.94-2.06 2.06-.94-2.06-.94-.94-2.06-.94 2.06-2.06.94z\"/><path d=\"M17.41 7.96l-1.37-1.37c-.4-.4-.92-.59-1.43-.59-.52 0-1.04.2-1.43.59L10.3 9.45l-7.72 7.72c-.78.78-.78 2.05 0 2.83L4 21.41c.39.39.9.59 1.41.59.51 0 1.02-.2 1.41-.59l7.78-7.78 2.81-2.81c.8-.78.8-2.07 0-2.86zM5.41 20L4 18.59l7.72-7.72 1.47 1.35L5.41 20z\"/>\n",
              "  </svg>\n",
              "      </button>\n",
              "      \n",
              "  <style>\n",
              "    .colab-df-container {\n",
              "      display:flex;\n",
              "      flex-wrap:wrap;\n",
              "      gap: 12px;\n",
              "    }\n",
              "\n",
              "    .colab-df-convert {\n",
              "      background-color: #E8F0FE;\n",
              "      border: none;\n",
              "      border-radius: 50%;\n",
              "      cursor: pointer;\n",
              "      display: none;\n",
              "      fill: #1967D2;\n",
              "      height: 32px;\n",
              "      padding: 0 0 0 0;\n",
              "      width: 32px;\n",
              "    }\n",
              "\n",
              "    .colab-df-convert:hover {\n",
              "      background-color: #E2EBFA;\n",
              "      box-shadow: 0px 1px 2px rgba(60, 64, 67, 0.3), 0px 1px 3px 1px rgba(60, 64, 67, 0.15);\n",
              "      fill: #174EA6;\n",
              "    }\n",
              "\n",
              "    [theme=dark] .colab-df-convert {\n",
              "      background-color: #3B4455;\n",
              "      fill: #D2E3FC;\n",
              "    }\n",
              "\n",
              "    [theme=dark] .colab-df-convert:hover {\n",
              "      background-color: #434B5C;\n",
              "      box-shadow: 0px 1px 3px 1px rgba(0, 0, 0, 0.15);\n",
              "      filter: drop-shadow(0px 1px 2px rgba(0, 0, 0, 0.3));\n",
              "      fill: #FFFFFF;\n",
              "    }\n",
              "  </style>\n",
              "\n",
              "      <script>\n",
              "        const buttonEl =\n",
              "          document.querySelector('#df-3f445ae3-e20b-4272-921a-e71fb845b017 button.colab-df-convert');\n",
              "        buttonEl.style.display =\n",
              "          google.colab.kernel.accessAllowed ? 'block' : 'none';\n",
              "\n",
              "        async function convertToInteractive(key) {\n",
              "          const element = document.querySelector('#df-3f445ae3-e20b-4272-921a-e71fb845b017');\n",
              "          const dataTable =\n",
              "            await google.colab.kernel.invokeFunction('convertToInteractive',\n",
              "                                                     [key], {});\n",
              "          if (!dataTable) return;\n",
              "\n",
              "          const docLinkHtml = 'Like what you see? Visit the ' +\n",
              "            '<a target=\"_blank\" href=https://colab.research.google.com/notebooks/data_table.ipynb>data table notebook</a>'\n",
              "            + ' to learn more about interactive tables.';\n",
              "          element.innerHTML = '';\n",
              "          dataTable['output_type'] = 'display_data';\n",
              "          await google.colab.output.renderOutput(dataTable, element);\n",
              "          const docLink = document.createElement('div');\n",
              "          docLink.innerHTML = docLinkHtml;\n",
              "          element.appendChild(docLink);\n",
              "        }\n",
              "      </script>\n",
              "    </div>\n",
              "  </div>\n",
              "  "
            ]
          },
          "metadata": {},
          "execution_count": 7
        }
      ],
      "source": [
        "bankrupt.describe()"
      ]
    },
    {
      "cell_type": "code",
      "execution_count": null,
      "id": "76013084",
      "metadata": {
        "colab": {
          "base_uri": "https://localhost:8080/"
        },
        "id": "76013084",
        "outputId": "46d81388-0c24-404e-e214-3c8c29262438"
      },
      "outputs": [
        {
          "output_type": "stream",
          "name": "stdout",
          "text": [
            "<class 'pandas.core.frame.DataFrame'>\n",
            "RangeIndex: 250 entries, 0 to 249\n",
            "Data columns (total 7 columns):\n",
            " #   Column                  Non-Null Count  Dtype  \n",
            "---  ------                  --------------  -----  \n",
            " 0   industrial_risk         250 non-null    float64\n",
            " 1    management_risk        250 non-null    float64\n",
            " 2    financial_flexibility  250 non-null    float64\n",
            " 3    credibility            250 non-null    float64\n",
            " 4    competitiveness        250 non-null    float64\n",
            " 5    operating_risk         250 non-null    float64\n",
            " 6    class                  250 non-null    object \n",
            "dtypes: float64(6), object(1)\n",
            "memory usage: 13.8+ KB\n"
          ]
        }
      ],
      "source": [
        "bankrupt.info()"
      ]
    },
    {
      "cell_type": "code",
      "execution_count": null,
      "id": "79f56c6f",
      "metadata": {
        "colab": {
          "base_uri": "https://localhost:8080/"
        },
        "id": "79f56c6f",
        "outputId": "84da71d0-5213-47ef-f695-0b70481aee51"
      },
      "outputs": [
        {
          "output_type": "execute_result",
          "data": {
            "text/plain": [
              "(250, 7)"
            ]
          },
          "metadata": {},
          "execution_count": 9
        }
      ],
      "source": [
        "bankrupt.shape"
      ]
    },
    {
      "cell_type": "markdown",
      "id": "0d897724",
      "metadata": {
        "id": "0d897724"
      },
      "source": [
        "# checking is there any missing values are there in data or not"
      ]
    },
    {
      "cell_type": "code",
      "execution_count": null,
      "id": "50e21df5",
      "metadata": {
        "colab": {
          "base_uri": "https://localhost:8080/"
        },
        "id": "50e21df5",
        "outputId": "9f9d8844-6c59-4429-c1df-b820661a79eb"
      },
      "outputs": [
        {
          "output_type": "execute_result",
          "data": {
            "text/plain": [
              "industrial_risk           0\n",
              " management_risk          0\n",
              " financial_flexibility    0\n",
              " credibility              0\n",
              " competitiveness          0\n",
              " operating_risk           0\n",
              " class                    0\n",
              "dtype: int64"
            ]
          },
          "metadata": {},
          "execution_count": 10
        }
      ],
      "source": [
        "bankrupt.isnull().sum()"
      ]
    },
    {
      "cell_type": "code",
      "execution_count": null,
      "id": "655a6315",
      "metadata": {
        "id": "655a6315"
      },
      "outputs": [],
      "source": [
        "bankrupt.rename(columns = {\" class\":\"Class\"}, inplace=True)"
      ]
    },
    {
      "cell_type": "code",
      "execution_count": null,
      "id": "30730582",
      "metadata": {
        "colab": {
          "base_uri": "https://localhost:8080/",
          "height": 424
        },
        "id": "30730582",
        "outputId": "227b8065-67bf-4cf0-a8aa-04211ba3d81b"
      },
      "outputs": [
        {
          "output_type": "execute_result",
          "data": {
            "text/plain": [
              "     industrial_risk   management_risk   financial_flexibility   credibility  \\\n",
              "0                0.5               1.0                     0.0           0.0   \n",
              "1                0.0               1.0                     0.0           0.0   \n",
              "2                1.0               0.0                     0.0           0.0   \n",
              "3                0.5               0.0                     0.0           0.5   \n",
              "4                1.0               1.0                     0.0           0.0   \n",
              "..               ...               ...                     ...           ...   \n",
              "245              0.0               1.0                     1.0           1.0   \n",
              "246              1.0               1.0                     0.5           1.0   \n",
              "247              0.0               1.0                     1.0           0.5   \n",
              "248              1.0               0.0                     0.5           1.0   \n",
              "249              1.0               0.0                     0.5           0.5   \n",
              "\n",
              "      competitiveness   operating_risk           Class  \n",
              "0                 0.0              0.5      bankruptcy  \n",
              "1                 0.0              1.0      bankruptcy  \n",
              "2                 0.0              1.0      bankruptcy  \n",
              "3                 0.0              1.0      bankruptcy  \n",
              "4                 0.0              1.0      bankruptcy  \n",
              "..                ...              ...             ...  \n",
              "245               1.0              1.0  non-bankruptcy  \n",
              "246               1.0              0.0  non-bankruptcy  \n",
              "247               0.5              0.0  non-bankruptcy  \n",
              "248               0.5              0.0  non-bankruptcy  \n",
              "249               1.0              1.0  non-bankruptcy  \n",
              "\n",
              "[250 rows x 7 columns]"
            ],
            "text/html": [
              "\n",
              "  <div id=\"df-5f9f402e-015b-412e-ae97-7077be6ac922\">\n",
              "    <div class=\"colab-df-container\">\n",
              "      <div>\n",
              "<style scoped>\n",
              "    .dataframe tbody tr th:only-of-type {\n",
              "        vertical-align: middle;\n",
              "    }\n",
              "\n",
              "    .dataframe tbody tr th {\n",
              "        vertical-align: top;\n",
              "    }\n",
              "\n",
              "    .dataframe thead th {\n",
              "        text-align: right;\n",
              "    }\n",
              "</style>\n",
              "<table border=\"1\" class=\"dataframe\">\n",
              "  <thead>\n",
              "    <tr style=\"text-align: right;\">\n",
              "      <th></th>\n",
              "      <th>industrial_risk</th>\n",
              "      <th>management_risk</th>\n",
              "      <th>financial_flexibility</th>\n",
              "      <th>credibility</th>\n",
              "      <th>competitiveness</th>\n",
              "      <th>operating_risk</th>\n",
              "      <th>Class</th>\n",
              "    </tr>\n",
              "  </thead>\n",
              "  <tbody>\n",
              "    <tr>\n",
              "      <th>0</th>\n",
              "      <td>0.5</td>\n",
              "      <td>1.0</td>\n",
              "      <td>0.0</td>\n",
              "      <td>0.0</td>\n",
              "      <td>0.0</td>\n",
              "      <td>0.5</td>\n",
              "      <td>bankruptcy</td>\n",
              "    </tr>\n",
              "    <tr>\n",
              "      <th>1</th>\n",
              "      <td>0.0</td>\n",
              "      <td>1.0</td>\n",
              "      <td>0.0</td>\n",
              "      <td>0.0</td>\n",
              "      <td>0.0</td>\n",
              "      <td>1.0</td>\n",
              "      <td>bankruptcy</td>\n",
              "    </tr>\n",
              "    <tr>\n",
              "      <th>2</th>\n",
              "      <td>1.0</td>\n",
              "      <td>0.0</td>\n",
              "      <td>0.0</td>\n",
              "      <td>0.0</td>\n",
              "      <td>0.0</td>\n",
              "      <td>1.0</td>\n",
              "      <td>bankruptcy</td>\n",
              "    </tr>\n",
              "    <tr>\n",
              "      <th>3</th>\n",
              "      <td>0.5</td>\n",
              "      <td>0.0</td>\n",
              "      <td>0.0</td>\n",
              "      <td>0.5</td>\n",
              "      <td>0.0</td>\n",
              "      <td>1.0</td>\n",
              "      <td>bankruptcy</td>\n",
              "    </tr>\n",
              "    <tr>\n",
              "      <th>4</th>\n",
              "      <td>1.0</td>\n",
              "      <td>1.0</td>\n",
              "      <td>0.0</td>\n",
              "      <td>0.0</td>\n",
              "      <td>0.0</td>\n",
              "      <td>1.0</td>\n",
              "      <td>bankruptcy</td>\n",
              "    </tr>\n",
              "    <tr>\n",
              "      <th>...</th>\n",
              "      <td>...</td>\n",
              "      <td>...</td>\n",
              "      <td>...</td>\n",
              "      <td>...</td>\n",
              "      <td>...</td>\n",
              "      <td>...</td>\n",
              "      <td>...</td>\n",
              "    </tr>\n",
              "    <tr>\n",
              "      <th>245</th>\n",
              "      <td>0.0</td>\n",
              "      <td>1.0</td>\n",
              "      <td>1.0</td>\n",
              "      <td>1.0</td>\n",
              "      <td>1.0</td>\n",
              "      <td>1.0</td>\n",
              "      <td>non-bankruptcy</td>\n",
              "    </tr>\n",
              "    <tr>\n",
              "      <th>246</th>\n",
              "      <td>1.0</td>\n",
              "      <td>1.0</td>\n",
              "      <td>0.5</td>\n",
              "      <td>1.0</td>\n",
              "      <td>1.0</td>\n",
              "      <td>0.0</td>\n",
              "      <td>non-bankruptcy</td>\n",
              "    </tr>\n",
              "    <tr>\n",
              "      <th>247</th>\n",
              "      <td>0.0</td>\n",
              "      <td>1.0</td>\n",
              "      <td>1.0</td>\n",
              "      <td>0.5</td>\n",
              "      <td>0.5</td>\n",
              "      <td>0.0</td>\n",
              "      <td>non-bankruptcy</td>\n",
              "    </tr>\n",
              "    <tr>\n",
              "      <th>248</th>\n",
              "      <td>1.0</td>\n",
              "      <td>0.0</td>\n",
              "      <td>0.5</td>\n",
              "      <td>1.0</td>\n",
              "      <td>0.5</td>\n",
              "      <td>0.0</td>\n",
              "      <td>non-bankruptcy</td>\n",
              "    </tr>\n",
              "    <tr>\n",
              "      <th>249</th>\n",
              "      <td>1.0</td>\n",
              "      <td>0.0</td>\n",
              "      <td>0.5</td>\n",
              "      <td>0.5</td>\n",
              "      <td>1.0</td>\n",
              "      <td>1.0</td>\n",
              "      <td>non-bankruptcy</td>\n",
              "    </tr>\n",
              "  </tbody>\n",
              "</table>\n",
              "<p>250 rows × 7 columns</p>\n",
              "</div>\n",
              "      <button class=\"colab-df-convert\" onclick=\"convertToInteractive('df-5f9f402e-015b-412e-ae97-7077be6ac922')\"\n",
              "              title=\"Convert this dataframe to an interactive table.\"\n",
              "              style=\"display:none;\">\n",
              "        \n",
              "  <svg xmlns=\"http://www.w3.org/2000/svg\" height=\"24px\"viewBox=\"0 0 24 24\"\n",
              "       width=\"24px\">\n",
              "    <path d=\"M0 0h24v24H0V0z\" fill=\"none\"/>\n",
              "    <path d=\"M18.56 5.44l.94 2.06.94-2.06 2.06-.94-2.06-.94-.94-2.06-.94 2.06-2.06.94zm-11 1L8.5 8.5l.94-2.06 2.06-.94-2.06-.94L8.5 2.5l-.94 2.06-2.06.94zm10 10l.94 2.06.94-2.06 2.06-.94-2.06-.94-.94-2.06-.94 2.06-2.06.94z\"/><path d=\"M17.41 7.96l-1.37-1.37c-.4-.4-.92-.59-1.43-.59-.52 0-1.04.2-1.43.59L10.3 9.45l-7.72 7.72c-.78.78-.78 2.05 0 2.83L4 21.41c.39.39.9.59 1.41.59.51 0 1.02-.2 1.41-.59l7.78-7.78 2.81-2.81c.8-.78.8-2.07 0-2.86zM5.41 20L4 18.59l7.72-7.72 1.47 1.35L5.41 20z\"/>\n",
              "  </svg>\n",
              "      </button>\n",
              "      \n",
              "  <style>\n",
              "    .colab-df-container {\n",
              "      display:flex;\n",
              "      flex-wrap:wrap;\n",
              "      gap: 12px;\n",
              "    }\n",
              "\n",
              "    .colab-df-convert {\n",
              "      background-color: #E8F0FE;\n",
              "      border: none;\n",
              "      border-radius: 50%;\n",
              "      cursor: pointer;\n",
              "      display: none;\n",
              "      fill: #1967D2;\n",
              "      height: 32px;\n",
              "      padding: 0 0 0 0;\n",
              "      width: 32px;\n",
              "    }\n",
              "\n",
              "    .colab-df-convert:hover {\n",
              "      background-color: #E2EBFA;\n",
              "      box-shadow: 0px 1px 2px rgba(60, 64, 67, 0.3), 0px 1px 3px 1px rgba(60, 64, 67, 0.15);\n",
              "      fill: #174EA6;\n",
              "    }\n",
              "\n",
              "    [theme=dark] .colab-df-convert {\n",
              "      background-color: #3B4455;\n",
              "      fill: #D2E3FC;\n",
              "    }\n",
              "\n",
              "    [theme=dark] .colab-df-convert:hover {\n",
              "      background-color: #434B5C;\n",
              "      box-shadow: 0px 1px 3px 1px rgba(0, 0, 0, 0.15);\n",
              "      filter: drop-shadow(0px 1px 2px rgba(0, 0, 0, 0.3));\n",
              "      fill: #FFFFFF;\n",
              "    }\n",
              "  </style>\n",
              "\n",
              "      <script>\n",
              "        const buttonEl =\n",
              "          document.querySelector('#df-5f9f402e-015b-412e-ae97-7077be6ac922 button.colab-df-convert');\n",
              "        buttonEl.style.display =\n",
              "          google.colab.kernel.accessAllowed ? 'block' : 'none';\n",
              "\n",
              "        async function convertToInteractive(key) {\n",
              "          const element = document.querySelector('#df-5f9f402e-015b-412e-ae97-7077be6ac922');\n",
              "          const dataTable =\n",
              "            await google.colab.kernel.invokeFunction('convertToInteractive',\n",
              "                                                     [key], {});\n",
              "          if (!dataTable) return;\n",
              "\n",
              "          const docLinkHtml = 'Like what you see? Visit the ' +\n",
              "            '<a target=\"_blank\" href=https://colab.research.google.com/notebooks/data_table.ipynb>data table notebook</a>'\n",
              "            + ' to learn more about interactive tables.';\n",
              "          element.innerHTML = '';\n",
              "          dataTable['output_type'] = 'display_data';\n",
              "          await google.colab.output.renderOutput(dataTable, element);\n",
              "          const docLink = document.createElement('div');\n",
              "          docLink.innerHTML = docLinkHtml;\n",
              "          element.appendChild(docLink);\n",
              "        }\n",
              "      </script>\n",
              "    </div>\n",
              "  </div>\n",
              "  "
            ]
          },
          "metadata": {},
          "execution_count": 12
        }
      ],
      "source": [
        "bankrupt"
      ]
    },
    {
      "cell_type": "code",
      "execution_count": null,
      "id": "045d76cd",
      "metadata": {
        "colab": {
          "base_uri": "https://localhost:8080/",
          "height": 485
        },
        "id": "045d76cd",
        "outputId": "fbcaea16-9539-42ad-f509-fc1487acad32"
      },
      "outputs": [
        {
          "output_type": "execute_result",
          "data": {
            "text/plain": [
              "     industrial_risk   management_risk   financial_flexibility   credibility  \\\n",
              "0                0.5               1.0                     0.0           0.0   \n",
              "1                0.0               1.0                     0.0           0.0   \n",
              "2                1.0               0.0                     0.0           0.0   \n",
              "3                0.5               0.0                     0.0           0.5   \n",
              "4                1.0               1.0                     0.0           0.0   \n",
              "..               ...               ...                     ...           ...   \n",
              "245              0.0               1.0                     1.0           1.0   \n",
              "246              1.0               1.0                     0.5           1.0   \n",
              "247              0.0               1.0                     1.0           0.5   \n",
              "248              1.0               0.0                     0.5           1.0   \n",
              "249              1.0               0.0                     0.5           0.5   \n",
              "\n",
              "      competitiveness   operating_risk  Class_bankruptcy  Class_non-bankruptcy  \n",
              "0                 0.0              0.5                 1                     0  \n",
              "1                 0.0              1.0                 1                     0  \n",
              "2                 0.0              1.0                 1                     0  \n",
              "3                 0.0              1.0                 1                     0  \n",
              "4                 0.0              1.0                 1                     0  \n",
              "..                ...              ...               ...                   ...  \n",
              "245               1.0              1.0                 0                     1  \n",
              "246               1.0              0.0                 0                     1  \n",
              "247               0.5              0.0                 0                     1  \n",
              "248               0.5              0.0                 0                     1  \n",
              "249               1.0              1.0                 0                     1  \n",
              "\n",
              "[250 rows x 8 columns]"
            ],
            "text/html": [
              "\n",
              "  <div id=\"df-d8006126-48a6-41a5-b2ee-53ce6bb3d7d3\">\n",
              "    <div class=\"colab-df-container\">\n",
              "      <div>\n",
              "<style scoped>\n",
              "    .dataframe tbody tr th:only-of-type {\n",
              "        vertical-align: middle;\n",
              "    }\n",
              "\n",
              "    .dataframe tbody tr th {\n",
              "        vertical-align: top;\n",
              "    }\n",
              "\n",
              "    .dataframe thead th {\n",
              "        text-align: right;\n",
              "    }\n",
              "</style>\n",
              "<table border=\"1\" class=\"dataframe\">\n",
              "  <thead>\n",
              "    <tr style=\"text-align: right;\">\n",
              "      <th></th>\n",
              "      <th>industrial_risk</th>\n",
              "      <th>management_risk</th>\n",
              "      <th>financial_flexibility</th>\n",
              "      <th>credibility</th>\n",
              "      <th>competitiveness</th>\n",
              "      <th>operating_risk</th>\n",
              "      <th>Class_bankruptcy</th>\n",
              "      <th>Class_non-bankruptcy</th>\n",
              "    </tr>\n",
              "  </thead>\n",
              "  <tbody>\n",
              "    <tr>\n",
              "      <th>0</th>\n",
              "      <td>0.5</td>\n",
              "      <td>1.0</td>\n",
              "      <td>0.0</td>\n",
              "      <td>0.0</td>\n",
              "      <td>0.0</td>\n",
              "      <td>0.5</td>\n",
              "      <td>1</td>\n",
              "      <td>0</td>\n",
              "    </tr>\n",
              "    <tr>\n",
              "      <th>1</th>\n",
              "      <td>0.0</td>\n",
              "      <td>1.0</td>\n",
              "      <td>0.0</td>\n",
              "      <td>0.0</td>\n",
              "      <td>0.0</td>\n",
              "      <td>1.0</td>\n",
              "      <td>1</td>\n",
              "      <td>0</td>\n",
              "    </tr>\n",
              "    <tr>\n",
              "      <th>2</th>\n",
              "      <td>1.0</td>\n",
              "      <td>0.0</td>\n",
              "      <td>0.0</td>\n",
              "      <td>0.0</td>\n",
              "      <td>0.0</td>\n",
              "      <td>1.0</td>\n",
              "      <td>1</td>\n",
              "      <td>0</td>\n",
              "    </tr>\n",
              "    <tr>\n",
              "      <th>3</th>\n",
              "      <td>0.5</td>\n",
              "      <td>0.0</td>\n",
              "      <td>0.0</td>\n",
              "      <td>0.5</td>\n",
              "      <td>0.0</td>\n",
              "      <td>1.0</td>\n",
              "      <td>1</td>\n",
              "      <td>0</td>\n",
              "    </tr>\n",
              "    <tr>\n",
              "      <th>4</th>\n",
              "      <td>1.0</td>\n",
              "      <td>1.0</td>\n",
              "      <td>0.0</td>\n",
              "      <td>0.0</td>\n",
              "      <td>0.0</td>\n",
              "      <td>1.0</td>\n",
              "      <td>1</td>\n",
              "      <td>0</td>\n",
              "    </tr>\n",
              "    <tr>\n",
              "      <th>...</th>\n",
              "      <td>...</td>\n",
              "      <td>...</td>\n",
              "      <td>...</td>\n",
              "      <td>...</td>\n",
              "      <td>...</td>\n",
              "      <td>...</td>\n",
              "      <td>...</td>\n",
              "      <td>...</td>\n",
              "    </tr>\n",
              "    <tr>\n",
              "      <th>245</th>\n",
              "      <td>0.0</td>\n",
              "      <td>1.0</td>\n",
              "      <td>1.0</td>\n",
              "      <td>1.0</td>\n",
              "      <td>1.0</td>\n",
              "      <td>1.0</td>\n",
              "      <td>0</td>\n",
              "      <td>1</td>\n",
              "    </tr>\n",
              "    <tr>\n",
              "      <th>246</th>\n",
              "      <td>1.0</td>\n",
              "      <td>1.0</td>\n",
              "      <td>0.5</td>\n",
              "      <td>1.0</td>\n",
              "      <td>1.0</td>\n",
              "      <td>0.0</td>\n",
              "      <td>0</td>\n",
              "      <td>1</td>\n",
              "    </tr>\n",
              "    <tr>\n",
              "      <th>247</th>\n",
              "      <td>0.0</td>\n",
              "      <td>1.0</td>\n",
              "      <td>1.0</td>\n",
              "      <td>0.5</td>\n",
              "      <td>0.5</td>\n",
              "      <td>0.0</td>\n",
              "      <td>0</td>\n",
              "      <td>1</td>\n",
              "    </tr>\n",
              "    <tr>\n",
              "      <th>248</th>\n",
              "      <td>1.0</td>\n",
              "      <td>0.0</td>\n",
              "      <td>0.5</td>\n",
              "      <td>1.0</td>\n",
              "      <td>0.5</td>\n",
              "      <td>0.0</td>\n",
              "      <td>0</td>\n",
              "      <td>1</td>\n",
              "    </tr>\n",
              "    <tr>\n",
              "      <th>249</th>\n",
              "      <td>1.0</td>\n",
              "      <td>0.0</td>\n",
              "      <td>0.5</td>\n",
              "      <td>0.5</td>\n",
              "      <td>1.0</td>\n",
              "      <td>1.0</td>\n",
              "      <td>0</td>\n",
              "      <td>1</td>\n",
              "    </tr>\n",
              "  </tbody>\n",
              "</table>\n",
              "<p>250 rows × 8 columns</p>\n",
              "</div>\n",
              "      <button class=\"colab-df-convert\" onclick=\"convertToInteractive('df-d8006126-48a6-41a5-b2ee-53ce6bb3d7d3')\"\n",
              "              title=\"Convert this dataframe to an interactive table.\"\n",
              "              style=\"display:none;\">\n",
              "        \n",
              "  <svg xmlns=\"http://www.w3.org/2000/svg\" height=\"24px\"viewBox=\"0 0 24 24\"\n",
              "       width=\"24px\">\n",
              "    <path d=\"M0 0h24v24H0V0z\" fill=\"none\"/>\n",
              "    <path d=\"M18.56 5.44l.94 2.06.94-2.06 2.06-.94-2.06-.94-.94-2.06-.94 2.06-2.06.94zm-11 1L8.5 8.5l.94-2.06 2.06-.94-2.06-.94L8.5 2.5l-.94 2.06-2.06.94zm10 10l.94 2.06.94-2.06 2.06-.94-2.06-.94-.94-2.06-.94 2.06-2.06.94z\"/><path d=\"M17.41 7.96l-1.37-1.37c-.4-.4-.92-.59-1.43-.59-.52 0-1.04.2-1.43.59L10.3 9.45l-7.72 7.72c-.78.78-.78 2.05 0 2.83L4 21.41c.39.39.9.59 1.41.59.51 0 1.02-.2 1.41-.59l7.78-7.78 2.81-2.81c.8-.78.8-2.07 0-2.86zM5.41 20L4 18.59l7.72-7.72 1.47 1.35L5.41 20z\"/>\n",
              "  </svg>\n",
              "      </button>\n",
              "      \n",
              "  <style>\n",
              "    .colab-df-container {\n",
              "      display:flex;\n",
              "      flex-wrap:wrap;\n",
              "      gap: 12px;\n",
              "    }\n",
              "\n",
              "    .colab-df-convert {\n",
              "      background-color: #E8F0FE;\n",
              "      border: none;\n",
              "      border-radius: 50%;\n",
              "      cursor: pointer;\n",
              "      display: none;\n",
              "      fill: #1967D2;\n",
              "      height: 32px;\n",
              "      padding: 0 0 0 0;\n",
              "      width: 32px;\n",
              "    }\n",
              "\n",
              "    .colab-df-convert:hover {\n",
              "      background-color: #E2EBFA;\n",
              "      box-shadow: 0px 1px 2px rgba(60, 64, 67, 0.3), 0px 1px 3px 1px rgba(60, 64, 67, 0.15);\n",
              "      fill: #174EA6;\n",
              "    }\n",
              "\n",
              "    [theme=dark] .colab-df-convert {\n",
              "      background-color: #3B4455;\n",
              "      fill: #D2E3FC;\n",
              "    }\n",
              "\n",
              "    [theme=dark] .colab-df-convert:hover {\n",
              "      background-color: #434B5C;\n",
              "      box-shadow: 0px 1px 3px 1px rgba(0, 0, 0, 0.15);\n",
              "      filter: drop-shadow(0px 1px 2px rgba(0, 0, 0, 0.3));\n",
              "      fill: #FFFFFF;\n",
              "    }\n",
              "  </style>\n",
              "\n",
              "      <script>\n",
              "        const buttonEl =\n",
              "          document.querySelector('#df-d8006126-48a6-41a5-b2ee-53ce6bb3d7d3 button.colab-df-convert');\n",
              "        buttonEl.style.display =\n",
              "          google.colab.kernel.accessAllowed ? 'block' : 'none';\n",
              "\n",
              "        async function convertToInteractive(key) {\n",
              "          const element = document.querySelector('#df-d8006126-48a6-41a5-b2ee-53ce6bb3d7d3');\n",
              "          const dataTable =\n",
              "            await google.colab.kernel.invokeFunction('convertToInteractive',\n",
              "                                                     [key], {});\n",
              "          if (!dataTable) return;\n",
              "\n",
              "          const docLinkHtml = 'Like what you see? Visit the ' +\n",
              "            '<a target=\"_blank\" href=https://colab.research.google.com/notebooks/data_table.ipynb>data table notebook</a>'\n",
              "            + ' to learn more about interactive tables.';\n",
              "          element.innerHTML = '';\n",
              "          dataTable['output_type'] = 'display_data';\n",
              "          await google.colab.output.renderOutput(dataTable, element);\n",
              "          const docLink = document.createElement('div');\n",
              "          docLink.innerHTML = docLinkHtml;\n",
              "          element.appendChild(docLink);\n",
              "        }\n",
              "      </script>\n",
              "    </div>\n",
              "  </div>\n",
              "  "
            ]
          },
          "metadata": {},
          "execution_count": 13
        }
      ],
      "source": [
        "data=pd.get_dummies(bankrupt,columns=[\"Class\"])\n",
        "data"
      ]
    },
    {
      "cell_type": "code",
      "execution_count": null,
      "id": "9a4f184a",
      "metadata": {
        "id": "9a4f184a"
      },
      "outputs": [],
      "source": [
        "data.drop(\"Class_non-bankruptcy\",axis=1,inplace=True)"
      ]
    },
    {
      "cell_type": "code",
      "execution_count": null,
      "id": "4be5b2eb",
      "metadata": {
        "colab": {
          "base_uri": "https://localhost:8080/",
          "height": 424
        },
        "id": "4be5b2eb",
        "outputId": "1ecb8baa-6869-4f56-ca6e-2a05f44d5bc8"
      },
      "outputs": [
        {
          "output_type": "execute_result",
          "data": {
            "text/plain": [
              "     industrial_risk   management_risk   financial_flexibility   credibility  \\\n",
              "0                0.5               1.0                     0.0           0.0   \n",
              "1                0.0               1.0                     0.0           0.0   \n",
              "2                1.0               0.0                     0.0           0.0   \n",
              "3                0.5               0.0                     0.0           0.5   \n",
              "4                1.0               1.0                     0.0           0.0   \n",
              "..               ...               ...                     ...           ...   \n",
              "245              0.0               1.0                     1.0           1.0   \n",
              "246              1.0               1.0                     0.5           1.0   \n",
              "247              0.0               1.0                     1.0           0.5   \n",
              "248              1.0               0.0                     0.5           1.0   \n",
              "249              1.0               0.0                     0.5           0.5   \n",
              "\n",
              "      competitiveness   operating_risk  Class_bankruptcy  \n",
              "0                 0.0              0.5                 1  \n",
              "1                 0.0              1.0                 1  \n",
              "2                 0.0              1.0                 1  \n",
              "3                 0.0              1.0                 1  \n",
              "4                 0.0              1.0                 1  \n",
              "..                ...              ...               ...  \n",
              "245               1.0              1.0                 0  \n",
              "246               1.0              0.0                 0  \n",
              "247               0.5              0.0                 0  \n",
              "248               0.5              0.0                 0  \n",
              "249               1.0              1.0                 0  \n",
              "\n",
              "[250 rows x 7 columns]"
            ],
            "text/html": [
              "\n",
              "  <div id=\"df-69d5e490-c5e3-471d-b187-37db78bb52c0\">\n",
              "    <div class=\"colab-df-container\">\n",
              "      <div>\n",
              "<style scoped>\n",
              "    .dataframe tbody tr th:only-of-type {\n",
              "        vertical-align: middle;\n",
              "    }\n",
              "\n",
              "    .dataframe tbody tr th {\n",
              "        vertical-align: top;\n",
              "    }\n",
              "\n",
              "    .dataframe thead th {\n",
              "        text-align: right;\n",
              "    }\n",
              "</style>\n",
              "<table border=\"1\" class=\"dataframe\">\n",
              "  <thead>\n",
              "    <tr style=\"text-align: right;\">\n",
              "      <th></th>\n",
              "      <th>industrial_risk</th>\n",
              "      <th>management_risk</th>\n",
              "      <th>financial_flexibility</th>\n",
              "      <th>credibility</th>\n",
              "      <th>competitiveness</th>\n",
              "      <th>operating_risk</th>\n",
              "      <th>Class_bankruptcy</th>\n",
              "    </tr>\n",
              "  </thead>\n",
              "  <tbody>\n",
              "    <tr>\n",
              "      <th>0</th>\n",
              "      <td>0.5</td>\n",
              "      <td>1.0</td>\n",
              "      <td>0.0</td>\n",
              "      <td>0.0</td>\n",
              "      <td>0.0</td>\n",
              "      <td>0.5</td>\n",
              "      <td>1</td>\n",
              "    </tr>\n",
              "    <tr>\n",
              "      <th>1</th>\n",
              "      <td>0.0</td>\n",
              "      <td>1.0</td>\n",
              "      <td>0.0</td>\n",
              "      <td>0.0</td>\n",
              "      <td>0.0</td>\n",
              "      <td>1.0</td>\n",
              "      <td>1</td>\n",
              "    </tr>\n",
              "    <tr>\n",
              "      <th>2</th>\n",
              "      <td>1.0</td>\n",
              "      <td>0.0</td>\n",
              "      <td>0.0</td>\n",
              "      <td>0.0</td>\n",
              "      <td>0.0</td>\n",
              "      <td>1.0</td>\n",
              "      <td>1</td>\n",
              "    </tr>\n",
              "    <tr>\n",
              "      <th>3</th>\n",
              "      <td>0.5</td>\n",
              "      <td>0.0</td>\n",
              "      <td>0.0</td>\n",
              "      <td>0.5</td>\n",
              "      <td>0.0</td>\n",
              "      <td>1.0</td>\n",
              "      <td>1</td>\n",
              "    </tr>\n",
              "    <tr>\n",
              "      <th>4</th>\n",
              "      <td>1.0</td>\n",
              "      <td>1.0</td>\n",
              "      <td>0.0</td>\n",
              "      <td>0.0</td>\n",
              "      <td>0.0</td>\n",
              "      <td>1.0</td>\n",
              "      <td>1</td>\n",
              "    </tr>\n",
              "    <tr>\n",
              "      <th>...</th>\n",
              "      <td>...</td>\n",
              "      <td>...</td>\n",
              "      <td>...</td>\n",
              "      <td>...</td>\n",
              "      <td>...</td>\n",
              "      <td>...</td>\n",
              "      <td>...</td>\n",
              "    </tr>\n",
              "    <tr>\n",
              "      <th>245</th>\n",
              "      <td>0.0</td>\n",
              "      <td>1.0</td>\n",
              "      <td>1.0</td>\n",
              "      <td>1.0</td>\n",
              "      <td>1.0</td>\n",
              "      <td>1.0</td>\n",
              "      <td>0</td>\n",
              "    </tr>\n",
              "    <tr>\n",
              "      <th>246</th>\n",
              "      <td>1.0</td>\n",
              "      <td>1.0</td>\n",
              "      <td>0.5</td>\n",
              "      <td>1.0</td>\n",
              "      <td>1.0</td>\n",
              "      <td>0.0</td>\n",
              "      <td>0</td>\n",
              "    </tr>\n",
              "    <tr>\n",
              "      <th>247</th>\n",
              "      <td>0.0</td>\n",
              "      <td>1.0</td>\n",
              "      <td>1.0</td>\n",
              "      <td>0.5</td>\n",
              "      <td>0.5</td>\n",
              "      <td>0.0</td>\n",
              "      <td>0</td>\n",
              "    </tr>\n",
              "    <tr>\n",
              "      <th>248</th>\n",
              "      <td>1.0</td>\n",
              "      <td>0.0</td>\n",
              "      <td>0.5</td>\n",
              "      <td>1.0</td>\n",
              "      <td>0.5</td>\n",
              "      <td>0.0</td>\n",
              "      <td>0</td>\n",
              "    </tr>\n",
              "    <tr>\n",
              "      <th>249</th>\n",
              "      <td>1.0</td>\n",
              "      <td>0.0</td>\n",
              "      <td>0.5</td>\n",
              "      <td>0.5</td>\n",
              "      <td>1.0</td>\n",
              "      <td>1.0</td>\n",
              "      <td>0</td>\n",
              "    </tr>\n",
              "  </tbody>\n",
              "</table>\n",
              "<p>250 rows × 7 columns</p>\n",
              "</div>\n",
              "      <button class=\"colab-df-convert\" onclick=\"convertToInteractive('df-69d5e490-c5e3-471d-b187-37db78bb52c0')\"\n",
              "              title=\"Convert this dataframe to an interactive table.\"\n",
              "              style=\"display:none;\">\n",
              "        \n",
              "  <svg xmlns=\"http://www.w3.org/2000/svg\" height=\"24px\"viewBox=\"0 0 24 24\"\n",
              "       width=\"24px\">\n",
              "    <path d=\"M0 0h24v24H0V0z\" fill=\"none\"/>\n",
              "    <path d=\"M18.56 5.44l.94 2.06.94-2.06 2.06-.94-2.06-.94-.94-2.06-.94 2.06-2.06.94zm-11 1L8.5 8.5l.94-2.06 2.06-.94-2.06-.94L8.5 2.5l-.94 2.06-2.06.94zm10 10l.94 2.06.94-2.06 2.06-.94-2.06-.94-.94-2.06-.94 2.06-2.06.94z\"/><path d=\"M17.41 7.96l-1.37-1.37c-.4-.4-.92-.59-1.43-.59-.52 0-1.04.2-1.43.59L10.3 9.45l-7.72 7.72c-.78.78-.78 2.05 0 2.83L4 21.41c.39.39.9.59 1.41.59.51 0 1.02-.2 1.41-.59l7.78-7.78 2.81-2.81c.8-.78.8-2.07 0-2.86zM5.41 20L4 18.59l7.72-7.72 1.47 1.35L5.41 20z\"/>\n",
              "  </svg>\n",
              "      </button>\n",
              "      \n",
              "  <style>\n",
              "    .colab-df-container {\n",
              "      display:flex;\n",
              "      flex-wrap:wrap;\n",
              "      gap: 12px;\n",
              "    }\n",
              "\n",
              "    .colab-df-convert {\n",
              "      background-color: #E8F0FE;\n",
              "      border: none;\n",
              "      border-radius: 50%;\n",
              "      cursor: pointer;\n",
              "      display: none;\n",
              "      fill: #1967D2;\n",
              "      height: 32px;\n",
              "      padding: 0 0 0 0;\n",
              "      width: 32px;\n",
              "    }\n",
              "\n",
              "    .colab-df-convert:hover {\n",
              "      background-color: #E2EBFA;\n",
              "      box-shadow: 0px 1px 2px rgba(60, 64, 67, 0.3), 0px 1px 3px 1px rgba(60, 64, 67, 0.15);\n",
              "      fill: #174EA6;\n",
              "    }\n",
              "\n",
              "    [theme=dark] .colab-df-convert {\n",
              "      background-color: #3B4455;\n",
              "      fill: #D2E3FC;\n",
              "    }\n",
              "\n",
              "    [theme=dark] .colab-df-convert:hover {\n",
              "      background-color: #434B5C;\n",
              "      box-shadow: 0px 1px 3px 1px rgba(0, 0, 0, 0.15);\n",
              "      filter: drop-shadow(0px 1px 2px rgba(0, 0, 0, 0.3));\n",
              "      fill: #FFFFFF;\n",
              "    }\n",
              "  </style>\n",
              "\n",
              "      <script>\n",
              "        const buttonEl =\n",
              "          document.querySelector('#df-69d5e490-c5e3-471d-b187-37db78bb52c0 button.colab-df-convert');\n",
              "        buttonEl.style.display =\n",
              "          google.colab.kernel.accessAllowed ? 'block' : 'none';\n",
              "\n",
              "        async function convertToInteractive(key) {\n",
              "          const element = document.querySelector('#df-69d5e490-c5e3-471d-b187-37db78bb52c0');\n",
              "          const dataTable =\n",
              "            await google.colab.kernel.invokeFunction('convertToInteractive',\n",
              "                                                     [key], {});\n",
              "          if (!dataTable) return;\n",
              "\n",
              "          const docLinkHtml = 'Like what you see? Visit the ' +\n",
              "            '<a target=\"_blank\" href=https://colab.research.google.com/notebooks/data_table.ipynb>data table notebook</a>'\n",
              "            + ' to learn more about interactive tables.';\n",
              "          element.innerHTML = '';\n",
              "          dataTable['output_type'] = 'display_data';\n",
              "          await google.colab.output.renderOutput(dataTable, element);\n",
              "          const docLink = document.createElement('div');\n",
              "          docLink.innerHTML = docLinkHtml;\n",
              "          element.appendChild(docLink);\n",
              "        }\n",
              "      </script>\n",
              "    </div>\n",
              "  </div>\n",
              "  "
            ]
          },
          "metadata": {},
          "execution_count": 15
        }
      ],
      "source": [
        "data"
      ]
    },
    {
      "cell_type": "markdown",
      "id": "ceec74be",
      "metadata": {
        "id": "ceec74be"
      },
      "source": [
        "# EDA"
      ]
    },
    {
      "cell_type": "code",
      "execution_count": null,
      "id": "a6bc1815",
      "metadata": {
        "colab": {
          "base_uri": "https://localhost:8080/",
          "height": 313
        },
        "id": "a6bc1815",
        "outputId": "ca7b62c9-ee0e-4d88-faed-461176e14975"
      },
      "outputs": [
        {
          "output_type": "execute_result",
          "data": {
            "text/plain": [
              "                        industrial_risk   management_risk  \\\n",
              "industrial_risk                1.000000          0.255127   \n",
              " management_risk               0.255127          1.000000   \n",
              " financial_flexibility        -0.162624         -0.254845   \n",
              " credibility                  -0.014438         -0.303341   \n",
              " competitiveness              -0.257814         -0.306568   \n",
              " operating_risk                0.144507          0.213874   \n",
              "Class_bankruptcy               0.227823          0.370838   \n",
              "\n",
              "                         financial_flexibility   credibility  \\\n",
              "industrial_risk                      -0.162624     -0.014438   \n",
              " management_risk                     -0.254845     -0.303341   \n",
              " financial_flexibility                1.000000      0.524951   \n",
              " credibility                          0.524951      1.000000   \n",
              " competitiveness                      0.686612      0.675689   \n",
              " operating_risk                      -0.116903     -0.288458   \n",
              "Class_bankruptcy                     -0.751020     -0.755909   \n",
              "\n",
              "                         competitiveness   operating_risk  Class_bankruptcy  \n",
              "industrial_risk                -0.257814         0.144507          0.227823  \n",
              " management_risk               -0.306568         0.213874          0.370838  \n",
              " financial_flexibility          0.686612        -0.116903         -0.751020  \n",
              " credibility                    0.675689        -0.288458         -0.755909  \n",
              " competitiveness                1.000000        -0.211383         -0.899452  \n",
              " operating_risk                -0.211383         1.000000          0.279786  \n",
              "Class_bankruptcy               -0.899452         0.279786          1.000000  "
            ],
            "text/html": [
              "\n",
              "  <div id=\"df-103ab9ea-a1f8-400f-9d02-fabca71af35b\">\n",
              "    <div class=\"colab-df-container\">\n",
              "      <div>\n",
              "<style scoped>\n",
              "    .dataframe tbody tr th:only-of-type {\n",
              "        vertical-align: middle;\n",
              "    }\n",
              "\n",
              "    .dataframe tbody tr th {\n",
              "        vertical-align: top;\n",
              "    }\n",
              "\n",
              "    .dataframe thead th {\n",
              "        text-align: right;\n",
              "    }\n",
              "</style>\n",
              "<table border=\"1\" class=\"dataframe\">\n",
              "  <thead>\n",
              "    <tr style=\"text-align: right;\">\n",
              "      <th></th>\n",
              "      <th>industrial_risk</th>\n",
              "      <th>management_risk</th>\n",
              "      <th>financial_flexibility</th>\n",
              "      <th>credibility</th>\n",
              "      <th>competitiveness</th>\n",
              "      <th>operating_risk</th>\n",
              "      <th>Class_bankruptcy</th>\n",
              "    </tr>\n",
              "  </thead>\n",
              "  <tbody>\n",
              "    <tr>\n",
              "      <th>industrial_risk</th>\n",
              "      <td>1.000000</td>\n",
              "      <td>0.255127</td>\n",
              "      <td>-0.162624</td>\n",
              "      <td>-0.014438</td>\n",
              "      <td>-0.257814</td>\n",
              "      <td>0.144507</td>\n",
              "      <td>0.227823</td>\n",
              "    </tr>\n",
              "    <tr>\n",
              "      <th>management_risk</th>\n",
              "      <td>0.255127</td>\n",
              "      <td>1.000000</td>\n",
              "      <td>-0.254845</td>\n",
              "      <td>-0.303341</td>\n",
              "      <td>-0.306568</td>\n",
              "      <td>0.213874</td>\n",
              "      <td>0.370838</td>\n",
              "    </tr>\n",
              "    <tr>\n",
              "      <th>financial_flexibility</th>\n",
              "      <td>-0.162624</td>\n",
              "      <td>-0.254845</td>\n",
              "      <td>1.000000</td>\n",
              "      <td>0.524951</td>\n",
              "      <td>0.686612</td>\n",
              "      <td>-0.116903</td>\n",
              "      <td>-0.751020</td>\n",
              "    </tr>\n",
              "    <tr>\n",
              "      <th>credibility</th>\n",
              "      <td>-0.014438</td>\n",
              "      <td>-0.303341</td>\n",
              "      <td>0.524951</td>\n",
              "      <td>1.000000</td>\n",
              "      <td>0.675689</td>\n",
              "      <td>-0.288458</td>\n",
              "      <td>-0.755909</td>\n",
              "    </tr>\n",
              "    <tr>\n",
              "      <th>competitiveness</th>\n",
              "      <td>-0.257814</td>\n",
              "      <td>-0.306568</td>\n",
              "      <td>0.686612</td>\n",
              "      <td>0.675689</td>\n",
              "      <td>1.000000</td>\n",
              "      <td>-0.211383</td>\n",
              "      <td>-0.899452</td>\n",
              "    </tr>\n",
              "    <tr>\n",
              "      <th>operating_risk</th>\n",
              "      <td>0.144507</td>\n",
              "      <td>0.213874</td>\n",
              "      <td>-0.116903</td>\n",
              "      <td>-0.288458</td>\n",
              "      <td>-0.211383</td>\n",
              "      <td>1.000000</td>\n",
              "      <td>0.279786</td>\n",
              "    </tr>\n",
              "    <tr>\n",
              "      <th>Class_bankruptcy</th>\n",
              "      <td>0.227823</td>\n",
              "      <td>0.370838</td>\n",
              "      <td>-0.751020</td>\n",
              "      <td>-0.755909</td>\n",
              "      <td>-0.899452</td>\n",
              "      <td>0.279786</td>\n",
              "      <td>1.000000</td>\n",
              "    </tr>\n",
              "  </tbody>\n",
              "</table>\n",
              "</div>\n",
              "      <button class=\"colab-df-convert\" onclick=\"convertToInteractive('df-103ab9ea-a1f8-400f-9d02-fabca71af35b')\"\n",
              "              title=\"Convert this dataframe to an interactive table.\"\n",
              "              style=\"display:none;\">\n",
              "        \n",
              "  <svg xmlns=\"http://www.w3.org/2000/svg\" height=\"24px\"viewBox=\"0 0 24 24\"\n",
              "       width=\"24px\">\n",
              "    <path d=\"M0 0h24v24H0V0z\" fill=\"none\"/>\n",
              "    <path d=\"M18.56 5.44l.94 2.06.94-2.06 2.06-.94-2.06-.94-.94-2.06-.94 2.06-2.06.94zm-11 1L8.5 8.5l.94-2.06 2.06-.94-2.06-.94L8.5 2.5l-.94 2.06-2.06.94zm10 10l.94 2.06.94-2.06 2.06-.94-2.06-.94-.94-2.06-.94 2.06-2.06.94z\"/><path d=\"M17.41 7.96l-1.37-1.37c-.4-.4-.92-.59-1.43-.59-.52 0-1.04.2-1.43.59L10.3 9.45l-7.72 7.72c-.78.78-.78 2.05 0 2.83L4 21.41c.39.39.9.59 1.41.59.51 0 1.02-.2 1.41-.59l7.78-7.78 2.81-2.81c.8-.78.8-2.07 0-2.86zM5.41 20L4 18.59l7.72-7.72 1.47 1.35L5.41 20z\"/>\n",
              "  </svg>\n",
              "      </button>\n",
              "      \n",
              "  <style>\n",
              "    .colab-df-container {\n",
              "      display:flex;\n",
              "      flex-wrap:wrap;\n",
              "      gap: 12px;\n",
              "    }\n",
              "\n",
              "    .colab-df-convert {\n",
              "      background-color: #E8F0FE;\n",
              "      border: none;\n",
              "      border-radius: 50%;\n",
              "      cursor: pointer;\n",
              "      display: none;\n",
              "      fill: #1967D2;\n",
              "      height: 32px;\n",
              "      padding: 0 0 0 0;\n",
              "      width: 32px;\n",
              "    }\n",
              "\n",
              "    .colab-df-convert:hover {\n",
              "      background-color: #E2EBFA;\n",
              "      box-shadow: 0px 1px 2px rgba(60, 64, 67, 0.3), 0px 1px 3px 1px rgba(60, 64, 67, 0.15);\n",
              "      fill: #174EA6;\n",
              "    }\n",
              "\n",
              "    [theme=dark] .colab-df-convert {\n",
              "      background-color: #3B4455;\n",
              "      fill: #D2E3FC;\n",
              "    }\n",
              "\n",
              "    [theme=dark] .colab-df-convert:hover {\n",
              "      background-color: #434B5C;\n",
              "      box-shadow: 0px 1px 3px 1px rgba(0, 0, 0, 0.15);\n",
              "      filter: drop-shadow(0px 1px 2px rgba(0, 0, 0, 0.3));\n",
              "      fill: #FFFFFF;\n",
              "    }\n",
              "  </style>\n",
              "\n",
              "      <script>\n",
              "        const buttonEl =\n",
              "          document.querySelector('#df-103ab9ea-a1f8-400f-9d02-fabca71af35b button.colab-df-convert');\n",
              "        buttonEl.style.display =\n",
              "          google.colab.kernel.accessAllowed ? 'block' : 'none';\n",
              "\n",
              "        async function convertToInteractive(key) {\n",
              "          const element = document.querySelector('#df-103ab9ea-a1f8-400f-9d02-fabca71af35b');\n",
              "          const dataTable =\n",
              "            await google.colab.kernel.invokeFunction('convertToInteractive',\n",
              "                                                     [key], {});\n",
              "          if (!dataTable) return;\n",
              "\n",
              "          const docLinkHtml = 'Like what you see? Visit the ' +\n",
              "            '<a target=\"_blank\" href=https://colab.research.google.com/notebooks/data_table.ipynb>data table notebook</a>'\n",
              "            + ' to learn more about interactive tables.';\n",
              "          element.innerHTML = '';\n",
              "          dataTable['output_type'] = 'display_data';\n",
              "          await google.colab.output.renderOutput(dataTable, element);\n",
              "          const docLink = document.createElement('div');\n",
              "          docLink.innerHTML = docLinkHtml;\n",
              "          element.appendChild(docLink);\n",
              "        }\n",
              "      </script>\n",
              "    </div>\n",
              "  </div>\n",
              "  "
            ]
          },
          "metadata": {},
          "execution_count": 16
        }
      ],
      "source": [
        "data.corr()"
      ]
    },
    {
      "cell_type": "code",
      "execution_count": null,
      "id": "509b3e2f",
      "metadata": {
        "colab": {
          "base_uri": "https://localhost:8080/",
          "height": 373
        },
        "id": "509b3e2f",
        "outputId": "e4126adb-1a71-4821-9405-4169224da8b5"
      },
      "outputs": [
        {
          "output_type": "execute_result",
          "data": {
            "text/plain": [
              "<matplotlib.axes._subplots.AxesSubplot at 0x7f885a1476d0>"
            ]
          },
          "metadata": {},
          "execution_count": 17
        },
        {
          "output_type": "display_data",
          "data": {
            "text/plain": [
              "<Figure size 432x288 with 2 Axes>"
            ],
            "image/png": "[encoded data removed]"
          },
          "metadata": {
            "needs_background": "light"
          }
        }
      ],
      "source": [
        "sns.heatmap(data.corr(), vmin = -1, vmax = 1, annot = True)"
      ]
    },
    {
      "cell_type": "code",
      "execution_count": null,
      "id": "ed47b07c",
      "metadata": {
        "colab": {
          "base_uri": "https://localhost:8080/"
        },
        "id": "ed47b07c",
        "outputId": "724d16b4-974b-4b32-a2e8-aa5378eaf9e4"
      },
      "outputs": [
        {
          "output_type": "execute_result",
          "data": {
            "text/plain": [
              "0    143\n",
              "1    107\n",
              "Name: Class_bankruptcy, dtype: int64"
            ]
          },
          "metadata": {},
          "execution_count": 18
        }
      ],
      "source": [
        "data.Class_bankruptcy.value_counts()"
      ]
    },
    {
      "cell_type": "code",
      "execution_count": null,
      "id": "bf4c4b04",
      "metadata": {
        "colab": {
          "base_uri": "https://localhost:8080/",
          "height": 297
        },
        "id": "bf4c4b04",
        "outputId": "462edf46-870b-4fee-f8da-003f2acf8370"
      },
      "outputs": [
        {
          "output_type": "execute_result",
          "data": {
            "text/plain": [
              "<matplotlib.axes._subplots.AxesSubplot at 0x7f8856b8d130>"
            ]
          },
          "metadata": {},
          "execution_count": 19
        },
        {
          "output_type": "display_data",
          "data": {
            "text/plain": [
              "<Figure size 432x288 with 1 Axes>"
            ],
            "image/png": "[encoded data removed]"
          },
          "metadata": {
            "needs_background": "light"
          }
        }
      ],
      "source": [
        "sns.countplot(x = 'Class_bankruptcy', data =data)"
      ]
    },
    {
      "cell_type": "code",
      "execution_count": null,
      "id": "13e21459",
      "metadata": {
        "colab": {
          "base_uri": "https://localhost:8080/",
          "height": 297
        },
        "id": "13e21459",
        "outputId": "ae23414b-66ed-4559-8435-ccd03a515896"
      },
      "outputs": [
        {
          "output_type": "execute_result",
          "data": {
            "text/plain": [
              "<matplotlib.axes._subplots.AxesSubplot at 0x7f8856b99e80>"
            ]
          },
          "metadata": {},
          "execution_count": 20
        },
        {
          "output_type": "display_data",
          "data": {
            "text/plain": [
              "<Figure size 432x288 with 1 Axes>"
            ],
            "image/png": "[encoded data removed]"
          },
          "metadata": {
            "needs_background": "light"
          }
        }
      ],
      "source": [
        "sns.countplot(x = ' financial_flexibility', data = data)"
      ]
    },
    {
      "cell_type": "code",
      "execution_count": null,
      "id": "9495a7c4",
      "metadata": {
        "colab": {
          "base_uri": "https://localhost:8080/",
          "height": 294
        },
        "id": "9495a7c4",
        "outputId": "3c2b539d-f689-403e-f73d-efa4924c8695"
      },
      "outputs": [
        {
          "output_type": "execute_result",
          "data": {
            "text/plain": [
              "<matplotlib.axes._subplots.AxesSubplot at 0x7f8856b8d040>"
            ]
          },
          "metadata": {},
          "execution_count": 21
        },
        {
          "output_type": "display_data",
          "data": {
            "text/plain": [
              "<Figure size 432x288 with 1 Axes>"
            ],
            "image/png": "[encoded data removed]"
          },
          "metadata": {
            "needs_background": "light"
          }
        }
      ],
      "source": [
        "pd.crosstab(data.Class_bankruptcy, data.industrial_risk).plot(kind='bar')"
      ]
    },
    {
      "cell_type": "code",
      "execution_count": null,
      "id": "5a88e0e7",
      "metadata": {
        "colab": {
          "base_uri": "https://localhost:8080/",
          "height": 303
        },
        "id": "5a88e0e7",
        "outputId": "b78fe8d8-2304-412c-c4ff-0ee06305eda1"
      },
      "outputs": [
        {
          "output_type": "execute_result",
          "data": {
            "text/plain": [
              "<matplotlib.axes._subplots.AxesSubplot at 0x7f88565c5670>"
            ]
          },
          "metadata": {},
          "execution_count": 22
        },
        {
          "output_type": "display_data",
          "data": {
            "text/plain": [
              "<Figure size 432x288 with 1 Axes>"
            ],
            "image/png": "[encoded data removed]"
          },
          "metadata": {
            "needs_background": "light"
          }
        }
      ],
      "source": [
        "pd.crosstab(data[' financial_flexibility'], data['Class_bankruptcy']).plot(kind='bar')"
      ]
    },
    {
      "cell_type": "code",
      "execution_count": null,
      "id": "b0274398",
      "metadata": {
        "colab": {
          "base_uri": "https://localhost:8080/",
          "height": 302
        },
        "id": "b0274398",
        "outputId": "2384a969-3c59-4375-c508-bece7022e460"
      },
      "outputs": [
        {
          "output_type": "execute_result",
          "data": {
            "text/plain": [
              "<matplotlib.axes._subplots.AxesSubplot at 0x7f8856531160>"
            ]
          },
          "metadata": {},
          "execution_count": 23
        },
        {
          "output_type": "display_data",
          "data": {
            "text/plain": [
              "<Figure size 432x288 with 1 Axes>"
            ],
            "image/png": "[encoded data removed]"
          },
          "metadata": {
            "needs_background": "light"
          }
        }
      ],
      "source": [
        "pd.crosstab(data[' credibility'], data.Class_bankruptcy).plot(kind = 'bar')"
      ]
    },
    {
      "cell_type": "code",
      "execution_count": null,
      "id": "672f24c6",
      "metadata": {
        "colab": {
          "base_uri": "https://localhost:8080/",
          "height": 303
        },
        "id": "672f24c6",
        "outputId": "5a9b62e8-e6b8-4081-c252-3e6acf58b518"
      },
      "outputs": [
        {
          "output_type": "execute_result",
          "data": {
            "text/plain": [
              "<matplotlib.axes._subplots.AxesSubplot at 0x7f8856515b50>"
            ]
          },
          "metadata": {},
          "execution_count": 24
        },
        {
          "output_type": "display_data",
          "data": {
            "text/plain": [
              "<Figure size 432x288 with 1 Axes>"
            ],
            "image/png": "[encoded data removed]"
          },
          "metadata": {
            "needs_background": "light"
          }
        }
      ],
      "source": [
        "pd.crosstab(data[' operating_risk'], data.Class_bankruptcy).plot(kind='bar')"
      ]
    },
    {
      "cell_type": "code",
      "execution_count": null,
      "id": "6a406aa7",
      "metadata": {
        "colab": {
          "base_uri": "https://localhost:8080/",
          "height": 303
        },
        "id": "6a406aa7",
        "outputId": "7644e784-4e34-45da-ac18-4115058b9b48"
      },
      "outputs": [
        {
          "output_type": "execute_result",
          "data": {
            "text/plain": [
              "<matplotlib.axes._subplots.AxesSubplot at 0x7f885647e160>"
            ]
          },
          "metadata": {},
          "execution_count": 25
        },
        {
          "output_type": "display_data",
          "data": {
            "text/plain": [
              "<Figure size 432x288 with 1 Axes>"
            ],
            "image/png": "[encoded data removed]"
          },
          "metadata": {
            "needs_background": "light"
          }
        }
      ],
      "source": [
        "pd.crosstab(data[' financial_flexibility'], data[' credibility']).plot(kind = 'bar')"
      ]
    },
    {
      "cell_type": "code",
      "execution_count": null,
      "id": "90993e72",
      "metadata": {
        "id": "90993e72"
      },
      "outputs": [],
      "source": [
        "x = data.iloc[:,:-1]\n",
        "# Target variable\n",
        "y = data.iloc[:,-1]"
      ]
    },
    {
      "cell_type": "markdown",
      "id": "01843ae0",
      "metadata": {
        "id": "01843ae0"
      },
      "source": [
        "# Sliptting the data into train and test"
      ]
    },
    {
      "cell_type": "code",
      "execution_count": null,
      "id": "eb16145b",
      "metadata": {
        "id": "eb16145b"
      },
      "outputs": [],
      "source": [
        "from sklearn.model_selection import train_test_split \n",
        "x_train, x_test, y_train, y_test = train_test_split(x,y, test_size = 0.25, random_state = 0)"
      ]
    },
    {
      "cell_type": "markdown",
      "id": "7b0c5e12",
      "metadata": {
        "id": "7b0c5e12"
      },
      "source": [
        "# Model building(KNN)"
      ]
    },
    {
      "cell_type": "code",
      "execution_count": null,
      "id": "0a626fe5",
      "metadata": {
        "id": "0a626fe5"
      },
      "outputs": [],
      "source": [
        "from sklearn import metrics\n",
        "from sklearn.neighbors import KNeighborsClassifier\n",
        "from sklearn.metrics import confusion_matrix, classification_report"
      ]
    },
    {
      "cell_type": "code",
      "execution_count": null,
      "id": "54a8d591",
      "metadata": {
        "colab": {
          "base_uri": "https://localhost:8080/"
        },
        "id": "54a8d591",
        "outputId": "cbe6f240-8ca6-4db3-e849-0a6c8960ec55"
      },
      "outputs": [
        {
          "output_type": "execute_result",
          "data": {
            "text/plain": [
              "KNeighborsClassifier()"
            ]
          },
          "metadata": {},
          "execution_count": 29
        }
      ],
      "source": [
        "#train a knn classifier\n",
        "knn = KNeighborsClassifier(n_neighbors=5)\n",
        "knn.fit(x_train, y_train)"
      ]
    },
    {
      "cell_type": "code",
      "execution_count": null,
      "id": "4f22f3a6",
      "metadata": {
        "id": "4f22f3a6"
      },
      "outputs": [],
      "source": [
        "#predict the target on training data\n",
        "trainingpred1 = knn.predict(x_train)\n",
        "#predict the target on testing set\n",
        "testingpred1 = knn.predict(x_test)"
      ]
    },
    {
      "cell_type": "code",
      "execution_count": null,
      "id": "ec620801",
      "metadata": {
        "colab": {
          "base_uri": "https://localhost:8080/"
        },
        "id": "ec620801",
        "outputId": "b5d53170-1572-431d-f700-e1902c4e1e4e"
      },
      "outputs": [
        {
          "output_type": "stream",
          "name": "stdout",
          "text": [
            "train Confusion Matrix1:\n",
            "[[105   1]\n",
            " [  1  80]]\n"
          ]
        }
      ],
      "source": [
        "# Evaluate the model performance using a confusion matrix and classification report(testing data)\n",
        "traincm1= confusion_matrix(y_train,trainingpred1)\n",
        "print('train Confusion Matrix1:')\n",
        "print(traincm1)"
      ]
    },
    {
      "cell_type": "code",
      "execution_count": null,
      "id": "dcb6b702",
      "metadata": {
        "colab": {
          "base_uri": "https://localhost:8080/"
        },
        "id": "dcb6b702",
        "outputId": "e9379814-a243-4d29-fb17-f726124dc6ba"
      },
      "outputs": [
        {
          "output_type": "stream",
          "name": "stdout",
          "text": [
            "test Confusion Matrix1:\n",
            "[[36  1]\n",
            " [ 0 26]]\n"
          ]
        }
      ],
      "source": [
        "# Evaluate the model performance using a confusion matrix and classification report(testing data)\n",
        "testcm1= confusion_matrix(y_test, testingpred1)\n",
        "print('test Confusion Matrix1:')\n",
        "print(testcm1)"
      ]
    },
    {
      "cell_type": "code",
      "execution_count": null,
      "id": "aefbb124",
      "metadata": {
        "colab": {
          "base_uri": "https://localhost:8080/"
        },
        "id": "aefbb124",
        "outputId": "6d0b10f5-8703-4733-dc9b-6e8ffd4db7ef"
      },
      "outputs": [
        {
          "output_type": "stream",
          "name": "stdout",
          "text": [
            "train Classification Report1:\n",
            "              precision    recall  f1-score   support\n",
            "\n",
            "           0       1.00      0.97      0.99        37\n",
            "           1       0.96      1.00      0.98        26\n",
            "\n",
            "    accuracy                           0.98        63\n",
            "   macro avg       0.98      0.99      0.98        63\n",
            "weighted avg       0.98      0.98      0.98        63\n",
            "\n"
          ]
        }
      ],
      "source": [
        "trainingcr1 = classification_report(y_test, testingpred1)\n",
        "print('train Classification Report1:')\n",
        "print(trainingcr1)"
      ]
    },
    {
      "cell_type": "code",
      "execution_count": null,
      "id": "e3e8bcac",
      "metadata": {
        "colab": {
          "base_uri": "https://localhost:8080/"
        },
        "id": "e3e8bcac",
        "outputId": "60c90b58-e66f-4dd3-fa0d-3ccd7b155abb"
      },
      "outputs": [
        {
          "output_type": "stream",
          "name": "stdout",
          "text": [
            "testing Classification Report1:\n",
            "              precision    recall  f1-score   support\n",
            "\n",
            "           0       1.00      0.97      0.99        37\n",
            "           1       0.96      1.00      0.98        26\n",
            "\n",
            "    accuracy                           0.98        63\n",
            "   macro avg       0.98      0.99      0.98        63\n",
            "weighted avg       0.98      0.98      0.98        63\n",
            "\n"
          ]
        }
      ],
      "source": [
        "testingcr1 = classification_report(y_test, testingpred1)\n",
        "print('testing Classification Report1:')\n",
        "print(testingcr1)"
      ]
    },
    {
      "cell_type": "code",
      "execution_count": null,
      "id": "05804d4a",
      "metadata": {
        "colab": {
          "base_uri": "https://localhost:8080/"
        },
        "id": "05804d4a",
        "outputId": "60a40327-7101-4b0e-e188-2c209bcb4738"
      },
      "outputs": [
        {
          "output_type": "execute_result",
          "data": {
            "text/plain": [
              "0.9893048128342246"
            ]
          },
          "metadata": {},
          "execution_count": 35
        }
      ],
      "source": [
        "# Calculate accuracy\n",
        "from sklearn.metrics import accuracy_score\n",
        "trainaccuracy1 = accuracy_score(y_train, trainingpred1)\n",
        "trainaccuracy1"
      ]
    },
    {
      "cell_type": "code",
      "execution_count": null,
      "id": "40e16a65",
      "metadata": {
        "colab": {
          "base_uri": "https://localhost:8080/"
        },
        "id": "40e16a65",
        "outputId": "8da3cd2c-1be9-4262-ff98-0587f3894c31"
      },
      "outputs": [
        {
          "output_type": "execute_result",
          "data": {
            "text/plain": [
              "0.9841269841269841"
            ]
          },
          "metadata": {},
          "execution_count": 36
        }
      ],
      "source": [
        "# Calculate accuracy\n",
        "from sklearn.metrics import accuracy_score\n",
        "testaccuracy1 = accuracy_score(y_test, testingpred1)\n",
        "testaccuracy1"
      ]
    },
    {
      "cell_type": "code",
      "execution_count": null,
      "id": "103e3d4b",
      "metadata": {
        "id": "103e3d4b"
      },
      "outputs": [],
      "source": [
        "from sklearn.metrics import roc_curve, auc"
      ]
    },
    {
      "cell_type": "code",
      "execution_count": null,
      "id": "ba1b7b70",
      "metadata": {
        "id": "ba1b7b70"
      },
      "outputs": [],
      "source": [
        "#compute the roc curve\n",
        "fpr, tpr, thresholds = roc_curve(y_test,testingpred1)"
      ]
    },
    {
      "cell_type": "code",
      "execution_count": null,
      "id": "1960614a",
      "metadata": {
        "id": "1960614a"
      },
      "outputs": [],
      "source": [
        "#compute the auc score\n",
        "roc_auc = auc(fpr, tpr)"
      ]
    },
    {
      "cell_type": "code",
      "execution_count": null,
      "id": "96527041",
      "metadata": {
        "colab": {
          "base_uri": "https://localhost:8080/",
          "height": 295
        },
        "id": "96527041",
        "outputId": "b724cdc3-aa64-4dc7-d407-0907edc453f5"
      },
      "outputs": [
        {
          "output_type": "display_data",
          "data": {
            "text/plain": [
              "<Figure size 432x288 with 1 Axes>"
            ],
            "image/png": "[encoded data removed]"
          },
          "metadata": {
            "needs_background": "light"
          }
        }
      ],
      "source": [
        "# Plot the ROC curve\n",
        "plt.plot(fpr, tpr, lw=1, label='ROC (area = %0.2f)' % (roc_auc))\n",
        "plt.plot([0, 1], [0, 1], '--', color=(0.6, 0.6, 0.6), label='Random')\n",
        "plt.xlim([-0.05, 1.05])\n",
        "plt.ylim([-0.05, 1.05])\n",
        "plt.xlabel('False Positive Rate')\n",
        "plt.ylabel('True Positive Rate')\n",
        "plt.title('ROC Curve')\n",
        "plt.legend(loc=\"lower right\")\n",
        "plt.show()\n",
        "\n"
      ]
    },
    {
      "cell_type": "code",
      "execution_count": null,
      "id": "13abd102",
      "metadata": {
        "id": "13abd102"
      },
      "outputs": [],
      "source": [
        "#The plot shows the trade-off between the True Positive Rate (TPR) and the False Positive Rate (FPR) for different classification thresholds. The closer the curve is to the top-left corner of the plot, the better the classifier's performance."
      ]
    },
    {
      "cell_type": "markdown",
      "id": "95aed624",
      "metadata": {
        "id": "95aed624"
      },
      "source": [
        "# Model building(Decision Tree)"
      ]
    },
    {
      "cell_type": "code",
      "execution_count": null,
      "id": "e7707146",
      "metadata": {
        "id": "e7707146"
      },
      "outputs": [],
      "source": [
        "from sklearn.tree import DecisionTreeClassifier"
      ]
    },
    {
      "cell_type": "code",
      "execution_count": null,
      "id": "502450d2",
      "metadata": {
        "id": "502450d2"
      },
      "outputs": [],
      "source": [
        "#create a decision tree classifier\n",
        "clf1=DecisionTreeClassifier(criterion = 'entropy',max_depth=4)"
      ]
    },
    {
      "cell_type": "code",
      "execution_count": null,
      "id": "b71c609b",
      "metadata": {
        "colab": {
          "base_uri": "https://localhost:8080/"
        },
        "id": "b71c609b",
        "outputId": "866d4aef-bac3-46be-b0f7-6aca6645d9be"
      },
      "outputs": [
        {
          "output_type": "execute_result",
          "data": {
            "text/plain": [
              "DecisionTreeClassifier(criterion='entropy', max_depth=4)"
            ]
          },
          "metadata": {},
          "execution_count": 44
        }
      ],
      "source": [
        "#fit the classifier into the training data\n",
        "clf1.fit(x_train, y_train)"
      ]
    },
    {
      "cell_type": "code",
      "execution_count": null,
      "id": "f6ef0f13",
      "metadata": {
        "id": "f6ef0f13"
      },
      "outputs": [],
      "source": [
        "#predict the target values for the train data\n",
        "trainpred2=clf1.predict(x_train)\n",
        "#predict the target values for the test data\n",
        "testpred2=clf1.predict(x_test)"
      ]
    },
    {
      "cell_type": "code",
      "execution_count": null,
      "id": "67d8bcb7",
      "metadata": {
        "id": "67d8bcb7"
      },
      "outputs": [],
      "source": [
        "from sklearn import tree"
      ]
    },
    {
      "cell_type": "code",
      "execution_count": null,
      "id": "8a101eed",
      "metadata": {
        "colab": {
          "base_uri": "https://localhost:8080/",
          "height": 370
        },
        "id": "8a101eed",
        "outputId": "cca1b08a-8b6c-4e60-c891-083fb250acc4"
      },
      "outputs": [
        {
          "output_type": "execute_result",
          "data": {
            "text/plain": [
              "[Text(0.4, 0.875, 'X[4] <= 0.25\\nentropy = 0.987\\nsamples = 187\\nvalue = [106, 81]'),\n",
              " Text(0.2, 0.625, 'entropy = 0.0\\nsamples = 77\\nvalue = [0, 77]'),\n",
              " Text(0.6, 0.625, 'X[3] <= 0.25\\nentropy = 0.225\\nsamples = 110\\nvalue = [106, 4]'),\n",
              " Text(0.4, 0.375, 'X[4] <= 0.75\\nentropy = 0.985\\nsamples = 7\\nvalue = [3, 4]'),\n",
              " Text(0.2, 0.125, 'entropy = 0.0\\nsamples = 4\\nvalue = [0, 4]'),\n",
              " Text(0.6, 0.125, 'entropy = 0.0\\nsamples = 3\\nvalue = [3, 0]'),\n",
              " Text(0.8, 0.375, 'entropy = 0.0\\nsamples = 103\\nvalue = [103, 0]')]"
            ]
          },
          "metadata": {},
          "execution_count": 47
        },
        {
          "output_type": "display_data",
          "data": {
            "text/plain": [
              "<Figure size 432x288 with 1 Axes>"
            ],
            "image/png": "[encoded data removed]"
          },
          "metadata": {
            "needs_background": "light"
          }
        }
      ],
      "source": [
        "tree.plot_tree(clf1)"
      ]
    },
    {
      "cell_type": "code",
      "execution_count": null,
      "id": "124d141b",
      "metadata": {
        "colab": {
          "base_uri": "https://localhost:8080/",
          "height": 530
        },
        "id": "124d141b",
        "outputId": "09e9531d-54c2-4027-f446-0b656d2ff74f"
      },
      "outputs": [
        {
          "output_type": "display_data",
          "data": {
            "text/plain": [
              "<Figure size 600x600 with 1 Axes>"
            ],
            "image/png": "[encoded data removed]"
          },
          "metadata": {
            "needs_background": "light"
          }
        }
      ],
      "source": [
        "fn=[\"industrial_risk \",\"management_risk \",\"financial_flexibility\",\"credibility \",\"competitiveness\",\"operating_risk\"]\n",
        "cn=['1', '2', '3']\n",
        "fig, axes = plt.subplots(nrows = 1,ncols = 1,figsize = (2,2), dpi=300)\n",
        "tree.plot_tree(clf1,\n",
        "               feature_names = fn, \n",
        "               class_names=cn,\n",
        "               filled = True);"
      ]
    },
    {
      "cell_type": "code",
      "execution_count": null,
      "id": "21bf79a6",
      "metadata": {
        "id": "21bf79a6"
      },
      "outputs": [],
      "source": [
        "#evaluate the accuracy\n",
        "trainaccuracy2=np.mean(trainpred2==y_train)\n",
        "#evaluate the accuracy\n",
        "testaccuracy2=np.mean(testpred2==y_test)"
      ]
    },
    {
      "cell_type": "code",
      "execution_count": null,
      "id": "e7efe71e",
      "metadata": {
        "colab": {
          "base_uri": "https://localhost:8080/"
        },
        "id": "e7efe71e",
        "outputId": "7ed910b5-4162-45ec-b261-06f20eb58c9d"
      },
      "outputs": [
        {
          "output_type": "execute_result",
          "data": {
            "text/plain": [
              "1.0"
            ]
          },
          "metadata": {},
          "execution_count": 50
        }
      ],
      "source": [
        "trainaccuracy2"
      ]
    },
    {
      "cell_type": "code",
      "execution_count": null,
      "id": "1ee178de",
      "metadata": {
        "colab": {
          "base_uri": "https://localhost:8080/"
        },
        "id": "1ee178de",
        "outputId": "c348f854-72c2-4a40-a12f-e6b7919e1557"
      },
      "outputs": [
        {
          "output_type": "execute_result",
          "data": {
            "text/plain": [
              "0.9841269841269841"
            ]
          },
          "metadata": {},
          "execution_count": 51
        }
      ],
      "source": [
        "testaccuracy2"
      ]
    },
    {
      "cell_type": "code",
      "execution_count": null,
      "id": "fee813e7",
      "metadata": {
        "id": "fee813e7"
      },
      "outputs": [],
      "source": [
        "#create a decision tree classifier\n",
        "clf2=DecisionTreeClassifier(criterion = 'gini',max_depth=3)"
      ]
    },
    {
      "cell_type": "code",
      "execution_count": null,
      "id": "7a4634b2",
      "metadata": {
        "colab": {
          "base_uri": "https://localhost:8080/"
        },
        "id": "7a4634b2",
        "outputId": "5db60845-703c-4d23-db12-3e5364ae9a7b"
      },
      "outputs": [
        {
          "output_type": "execute_result",
          "data": {
            "text/plain": [
              "DecisionTreeClassifier(max_depth=3)"
            ]
          },
          "metadata": {},
          "execution_count": 53
        }
      ],
      "source": [
        "#fit the classifier into the training data\n",
        "clf2.fit(x_train, y_train)"
      ]
    },
    {
      "cell_type": "code",
      "execution_count": null,
      "id": "4d65e7a8",
      "metadata": {
        "id": "4d65e7a8"
      },
      "outputs": [],
      "source": [
        "#predict the target values for the test data\n",
        "trainpred2gini=clf2.predict(x_train)\n",
        "#predict the target values for the test data\n",
        "testpred2gini=clf2.predict(x_test)"
      ]
    },
    {
      "cell_type": "code",
      "execution_count": null,
      "id": "89f4fc05",
      "metadata": {
        "colab": {
          "base_uri": "https://localhost:8080/",
          "height": 370
        },
        "id": "89f4fc05",
        "outputId": "5cc3f8a1-58de-404a-d044-0a981793cdd3"
      },
      "outputs": [
        {
          "output_type": "execute_result",
          "data": {
            "text/plain": [
              "[Text(0.4, 0.875, 'X[4] <= 0.25\\ngini = 0.491\\nsamples = 187\\nvalue = [106, 81]'),\n",
              " Text(0.2, 0.625, 'gini = 0.0\\nsamples = 77\\nvalue = [0, 77]'),\n",
              " Text(0.6, 0.625, 'X[3] <= 0.25\\ngini = 0.07\\nsamples = 110\\nvalue = [106, 4]'),\n",
              " Text(0.4, 0.375, 'X[4] <= 0.75\\ngini = 0.49\\nsamples = 7\\nvalue = [3, 4]'),\n",
              " Text(0.2, 0.125, 'gini = 0.0\\nsamples = 4\\nvalue = [0, 4]'),\n",
              " Text(0.6, 0.125, 'gini = 0.0\\nsamples = 3\\nvalue = [3, 0]'),\n",
              " Text(0.8, 0.375, 'gini = 0.0\\nsamples = 103\\nvalue = [103, 0]')]"
            ]
          },
          "metadata": {},
          "execution_count": 55
        },
        {
          "output_type": "display_data",
          "data": {
            "text/plain": [
              "<Figure size 432x288 with 1 Axes>"
            ],
            "image/png": "[encoded data removed]"
          },
          "metadata": {
            "needs_background": "light"
          }
        }
      ],
      "source": [
        "tree.plot_tree(clf2)"
      ]
    },
    {
      "cell_type": "code",
      "execution_count": null,
      "id": "be10d9b0",
      "metadata": {
        "colab": {
          "base_uri": "https://localhost:8080/",
          "height": 530
        },
        "id": "be10d9b0",
        "outputId": "b66f3517-49b7-4222-8dfd-55287930a728"
      },
      "outputs": [
        {
          "output_type": "display_data",
          "data": {
            "text/plain": [
              "<Figure size 600x600 with 1 Axes>"
            ],
            "image/png": "[encoded data removed]"
          },
          "metadata": {
            "needs_background": "light"
          }
        }
      ],
      "source": [
        "fn=[\"industrial_risk \",\"management_risk \",\"financial_flexibility\",\"credibility \",\"competitiveness\",\"operating_risk\"]\n",
        "\n",
        "cn=['1', '2', '3']\n",
        "\n",
        "fig, axes = plt.subplots(nrows = 1,ncols = 1,figsize = (2,2), dpi=300)\n",
        "\n",
        "tree.plot_tree(clf2,\n",
        "\n",
        "               feature_names = fn, \n",
        "\n",
        "               class_names=cn,\n",
        "\n",
        "               filled = True);"
      ]
    },
    {
      "cell_type": "code",
      "execution_count": null,
      "id": "f11f2dd7",
      "metadata": {
        "colab": {
          "base_uri": "https://localhost:8080/"
        },
        "id": "f11f2dd7",
        "outputId": "a0b7e2fd-fe26-4a6e-fe6a-0a219fafd70b"
      },
      "outputs": [
        {
          "output_type": "execute_result",
          "data": {
            "text/plain": [
              "1.0"
            ]
          },
          "metadata": {},
          "execution_count": 57
        }
      ],
      "source": [
        "#evaluate the accuracy\n",
        "accuracy2ginitraining=np.mean(trainpred2gini==y_train)\n",
        "accuracy2ginitraining"
      ]
    },
    {
      "cell_type": "code",
      "execution_count": null,
      "id": "d1a457bc",
      "metadata": {
        "colab": {
          "base_uri": "https://localhost:8080/"
        },
        "id": "d1a457bc",
        "outputId": "a95137ce-984e-4471-e80e-369259719a6d"
      },
      "outputs": [
        {
          "output_type": "execute_result",
          "data": {
            "text/plain": [
              "0.9841269841269841"
            ]
          },
          "metadata": {},
          "execution_count": 58
        }
      ],
      "source": [
        "#evaluate the accuracy\n",
        "accuracy2ginitesting=np.mean(testpred2gini==y_test)\n",
        "accuracy2ginitesting"
      ]
    },
    {
      "cell_type": "markdown",
      "id": "64804201",
      "metadata": {
        "id": "64804201"
      },
      "source": [
        "# logistic regression"
      ]
    },
    {
      "cell_type": "code",
      "execution_count": null,
      "id": "a1a63f36",
      "metadata": {
        "id": "a1a63f36"
      },
      "outputs": [],
      "source": [
        "from sklearn.linear_model import LogisticRegression"
      ]
    },
    {
      "cell_type": "code",
      "execution_count": null,
      "id": "3d7f0443",
      "metadata": {
        "colab": {
          "base_uri": "https://localhost:8080/"
        },
        "id": "3d7f0443",
        "outputId": "b11ef36d-bfdc-4613-9a13-72a3163afe34"
      },
      "outputs": [
        {
          "output_type": "execute_result",
          "data": {
            "text/plain": [
              "LogisticRegression()"
            ]
          },
          "metadata": {},
          "execution_count": 60
        }
      ],
      "source": [
        "# Train logistic regression model\n",
        "lr = LogisticRegression()\n",
        "lr.fit(x_train, y_train)"
      ]
    },
    {
      "cell_type": "code",
      "execution_count": null,
      "id": "34064967",
      "metadata": {
        "id": "34064967"
      },
      "outputs": [],
      "source": [
        "# Predict on testing set\n",
        "trainpred3 = lr.predict(x_train)\n",
        "# Predict on testing set\n",
        "testpred3 = lr.predict(x_test)"
      ]
    },
    {
      "cell_type": "code",
      "execution_count": null,
      "id": "2a31d73c",
      "metadata": {
        "colab": {
          "base_uri": "https://localhost:8080/"
        },
        "id": "2a31d73c",
        "outputId": "88565a4a-65b3-4e5f-f7b1-600d4e7b3842"
      },
      "outputs": [
        {
          "output_type": "stream",
          "name": "stdout",
          "text": [
            "train Confusion Matrix3:\n",
            "[[106   0]\n",
            " [  1  80]]\n"
          ]
        }
      ],
      "source": [
        "# Evaluate the model performance using a confusion matrix and classification report\n",
        "traincm3 = confusion_matrix(y_train, trainpred3)\n",
        "print('train Confusion Matrix3:')\n",
        "print(traincm3)"
      ]
    },
    {
      "cell_type": "code",
      "execution_count": null,
      "id": "0a08a645",
      "metadata": {
        "colab": {
          "base_uri": "https://localhost:8080/"
        },
        "id": "0a08a645",
        "outputId": "f3add8bc-6300-45d7-d1cd-f63f06962ad7"
      },
      "outputs": [
        {
          "output_type": "stream",
          "name": "stdout",
          "text": [
            "testConfusion Matrix3:\n",
            "[[37  0]\n",
            " [ 0 26]]\n"
          ]
        }
      ],
      "source": [
        "# Evaluate the model performance using a confusion matrix and classification report\n",
        "testcm3 = confusion_matrix(y_test, testpred3)\n",
        "print('testConfusion Matrix3:')\n",
        "print(testcm3)"
      ]
    },
    {
      "cell_type": "code",
      "execution_count": null,
      "id": "f1e2c611",
      "metadata": {
        "colab": {
          "base_uri": "https://localhost:8080/"
        },
        "id": "f1e2c611",
        "outputId": "24ed75ba-f929-4408-fa59-7ac29adbf411"
      },
      "outputs": [
        {
          "output_type": "stream",
          "name": "stdout",
          "text": [
            "trainClassification Report3:\n",
            "              precision    recall  f1-score   support\n",
            "\n",
            "           0       0.99      1.00      1.00       106\n",
            "           1       1.00      0.99      0.99        81\n",
            "\n",
            "    accuracy                           0.99       187\n",
            "   macro avg       1.00      0.99      0.99       187\n",
            "weighted avg       0.99      0.99      0.99       187\n",
            "\n"
          ]
        }
      ],
      "source": [
        "traincr3 = classification_report(y_train, trainpred3)\n",
        "print('trainClassification Report3:')\n",
        "print(traincr3)"
      ]
    },
    {
      "cell_type": "code",
      "execution_count": null,
      "id": "295ec443",
      "metadata": {
        "colab": {
          "base_uri": "https://localhost:8080/"
        },
        "id": "295ec443",
        "outputId": "05698bdc-4eb4-4455-ba6c-38c1fcdbf033"
      },
      "outputs": [
        {
          "output_type": "stream",
          "name": "stdout",
          "text": [
            "testClassification Report3:\n",
            "              precision    recall  f1-score   support\n",
            "\n",
            "           0       1.00      1.00      1.00        37\n",
            "           1       1.00      1.00      1.00        26\n",
            "\n",
            "    accuracy                           1.00        63\n",
            "   macro avg       1.00      1.00      1.00        63\n",
            "weighted avg       1.00      1.00      1.00        63\n",
            "\n"
          ]
        }
      ],
      "source": [
        "testcr3 = classification_report(y_test, testpred3)\n",
        "print('testClassification Report3:')\n",
        "print(testcr3)"
      ]
    },
    {
      "cell_type": "code",
      "execution_count": null,
      "id": "734a103b",
      "metadata": {
        "colab": {
          "base_uri": "https://localhost:8080/"
        },
        "id": "734a103b",
        "outputId": "7409c266-41d7-4911-f365-967d6fddf310"
      },
      "outputs": [
        {
          "output_type": "execute_result",
          "data": {
            "text/plain": [
              "0.9946524064171123"
            ]
          },
          "metadata": {},
          "execution_count": 66
        }
      ],
      "source": [
        "# Calculate accuracy\n",
        "from sklearn.metrics import accuracy_score\n",
        "trainaccuracy3 = accuracy_score(y_train, trainpred3)\n",
        "trainaccuracy3"
      ]
    },
    {
      "cell_type": "code",
      "execution_count": null,
      "id": "0e687003",
      "metadata": {
        "colab": {
          "base_uri": "https://localhost:8080/"
        },
        "id": "0e687003",
        "outputId": "8da35ce2-d6ac-4db4-e32a-4647b0f369f5"
      },
      "outputs": [
        {
          "output_type": "execute_result",
          "data": {
            "text/plain": [
              "1.0"
            ]
          },
          "metadata": {},
          "execution_count": 67
        }
      ],
      "source": [
        "# Calculate accuracy\n",
        "from sklearn.metrics import accuracy_score\n",
        "testaccuracy3 = accuracy_score(y_test, testpred3)\n",
        "testaccuracy3"
      ]
    },
    {
      "cell_type": "code",
      "execution_count": null,
      "id": "737c2b84",
      "metadata": {
        "id": "737c2b84"
      },
      "outputs": [],
      "source": [
        "#The classifier has an accuracy of 100%, which means that it correctly predicts the class of 100% of the samples."
      ]
    },
    {
      "cell_type": "markdown",
      "id": "29293d8d",
      "metadata": {
        "id": "29293d8d"
      },
      "source": [
        "# support vector machine "
      ]
    },
    {
      "cell_type": "code",
      "execution_count": null,
      "id": "6456556d",
      "metadata": {
        "id": "6456556d"
      },
      "outputs": [],
      "source": [
        "from sklearn.svm import SVC\n",
        "from sklearn.metrics import accuracy_score"
      ]
    },
    {
      "cell_type": "code",
      "execution_count": null,
      "id": "8edd3dd4",
      "metadata": {
        "colab": {
          "base_uri": "https://localhost:8080/"
        },
        "id": "8edd3dd4",
        "outputId": "fcb47c14-6d68-45e0-c43c-080eccc6449a"
      },
      "outputs": [
        {
          "output_type": "execute_result",
          "data": {
            "text/plain": [
              "SVC(kernel='linear')"
            ]
          },
          "metadata": {},
          "execution_count": 70
        }
      ],
      "source": [
        "# Train SVM model\n",
        "svm = SVC(kernel='linear')\n",
        "svm.fit(x_train, y_train)"
      ]
    },
    {
      "cell_type": "code",
      "execution_count": null,
      "id": "7c7f3f23",
      "metadata": {
        "id": "7c7f3f23"
      },
      "outputs": [],
      "source": [
        "# Predict on training set\n",
        "trainpred4 = svm.predict(x_train)\n",
        "# Predict on testing set\n",
        "testpred4 = svm.predict(x_test)"
      ]
    },
    {
      "cell_type": "code",
      "execution_count": null,
      "id": "c8880229",
      "metadata": {
        "colab": {
          "base_uri": "https://localhost:8080/"
        },
        "id": "c8880229",
        "outputId": "9d9ea202-4200-4f24-fcfa-0d9b8de063fd"
      },
      "outputs": [
        {
          "output_type": "execute_result",
          "data": {
            "text/plain": [
              "0.9946524064171123"
            ]
          },
          "metadata": {},
          "execution_count": 72
        }
      ],
      "source": [
        "# Calculate accuracy\n",
        "trainaccuracy4 = accuracy_score(y_train, trainpred4)\n",
        "trainaccuracy4"
      ]
    },
    {
      "cell_type": "code",
      "execution_count": null,
      "id": "e08fd692",
      "metadata": {
        "colab": {
          "base_uri": "https://localhost:8080/"
        },
        "id": "e08fd692",
        "outputId": "cd07175d-e0f6-41bb-a68e-4cf5c85a4b60"
      },
      "outputs": [
        {
          "output_type": "execute_result",
          "data": {
            "text/plain": [
              "1.0"
            ]
          },
          "metadata": {},
          "execution_count": 73
        }
      ],
      "source": [
        "# Calculate accuracya\n",
        "testaccuracy4 = accuracy_score(y_test, testpred4)\n",
        "testaccuracy4"
      ]
    },
    {
      "cell_type": "code",
      "execution_count": null,
      "id": "f5688c19",
      "metadata": {
        "colab": {
          "base_uri": "https://localhost:8080/"
        },
        "id": "f5688c19",
        "outputId": "add5b944-a3e5-4690-9905-4a2b8d27c257"
      },
      "outputs": [
        {
          "output_type": "execute_result",
          "data": {
            "text/plain": [
              "SVC(kernel='poly')"
            ]
          },
          "metadata": {},
          "execution_count": 74
        }
      ],
      "source": [
        "# Train SVM model\n",
        "svm = SVC(kernel='poly')\n",
        "svm.fit(x_train, y_train)"
      ]
    },
    {
      "cell_type": "code",
      "execution_count": null,
      "id": "1ecb2e91",
      "metadata": {
        "id": "1ecb2e91"
      },
      "outputs": [],
      "source": [
        "# Predict on traaining set\n",
        "trainpred4poly = svm.predict(x_train)\n",
        "# Predict on testing set\n",
        "testpred4poly = svm.predict(x_test)"
      ]
    },
    {
      "cell_type": "code",
      "execution_count": null,
      "id": "9adb1713",
      "metadata": {
        "colab": {
          "base_uri": "https://localhost:8080/"
        },
        "id": "9adb1713",
        "outputId": "18285f5e-9cac-43dd-b264-8efecda07630"
      },
      "outputs": [
        {
          "output_type": "execute_result",
          "data": {
            "text/plain": [
              "1.0"
            ]
          },
          "metadata": {},
          "execution_count": 76
        }
      ],
      "source": [
        "# Calculate accuracy\n",
        "trainaccuracy4poly = accuracy_score(y_train, trainpred4poly)\n",
        "trainaccuracy4poly"
      ]
    },
    {
      "cell_type": "code",
      "execution_count": null,
      "id": "bc3c129b",
      "metadata": {
        "colab": {
          "base_uri": "https://localhost:8080/"
        },
        "id": "bc3c129b",
        "outputId": "8fe97f71-e2a1-4126-edb8-7c868820859e"
      },
      "outputs": [
        {
          "output_type": "execute_result",
          "data": {
            "text/plain": [
              "0.9841269841269841"
            ]
          },
          "metadata": {},
          "execution_count": 77
        }
      ],
      "source": [
        "# Calculate accuracy\n",
        "testaccuracy4poly = accuracy_score(y_test, testpred4poly)\n",
        "testaccuracy4poly"
      ]
    },
    {
      "cell_type": "code",
      "execution_count": null,
      "id": "1bdaeb7f",
      "metadata": {
        "colab": {
          "base_uri": "https://localhost:8080/"
        },
        "id": "1bdaeb7f",
        "outputId": "184cb0e4-5cae-4f3b-c01f-3504dd25fbfc"
      },
      "outputs": [
        {
          "output_type": "execute_result",
          "data": {
            "text/plain": [
              "SVC(kernel='sigmoid')"
            ]
          },
          "metadata": {},
          "execution_count": 78
        }
      ],
      "source": [
        "# Train SVM model\n",
        "svm = SVC(kernel='sigmoid')\n",
        "svm.fit(x_train, y_train)"
      ]
    },
    {
      "cell_type": "code",
      "execution_count": null,
      "id": "9999bd66",
      "metadata": {
        "id": "9999bd66"
      },
      "outputs": [],
      "source": [
        "# Predict on testing set\n",
        "trainpred4sigmoid = svm.predict(x_train)\n",
        "# Predict on testing set\n",
        "testpred4sigmoid = svm.predict(x_test)"
      ]
    },
    {
      "cell_type": "code",
      "execution_count": null,
      "id": "767024d9",
      "metadata": {
        "colab": {
          "base_uri": "https://localhost:8080/"
        },
        "id": "767024d9",
        "outputId": "6b3ae545-bc29-480b-e201-b1c14959d3d7"
      },
      "outputs": [
        {
          "output_type": "execute_result",
          "data": {
            "text/plain": [
              "0.7540106951871658"
            ]
          },
          "metadata": {},
          "execution_count": 80
        }
      ],
      "source": [
        "# Calculate accuracy\n",
        "trainaccuracy4sigmoid = accuracy_score(y_train, trainpred4sigmoid)\n",
        "trainaccuracy4sigmoid"
      ]
    },
    {
      "cell_type": "code",
      "execution_count": null,
      "id": "256a8beb",
      "metadata": {
        "colab": {
          "base_uri": "https://localhost:8080/"
        },
        "id": "256a8beb",
        "outputId": "c263b10a-2e0c-4a7f-a19c-279562041cca"
      },
      "outputs": [
        {
          "output_type": "execute_result",
          "data": {
            "text/plain": [
              "0.873015873015873"
            ]
          },
          "metadata": {},
          "execution_count": 81
        }
      ],
      "source": [
        "# Calculate accuracy\n",
        "testaccuracy4sigmoid = accuracy_score(y_test, testpred4sigmoid)\n",
        "testaccuracy4sigmoid"
      ]
    },
    {
      "cell_type": "code",
      "execution_count": null,
      "id": "240ee403",
      "metadata": {
        "colab": {
          "base_uri": "https://localhost:8080/"
        },
        "id": "240ee403",
        "outputId": "c1d3b58c-fecc-4242-d0ee-8a48a3d87a06"
      },
      "outputs": [
        {
          "output_type": "execute_result",
          "data": {
            "text/plain": [
              "SVC()"
            ]
          },
          "metadata": {},
          "execution_count": 82
        }
      ],
      "source": [
        "# Train SVM model\n",
        "svm = SVC(kernel='rbf')\n",
        "svm.fit(x_train, y_train)"
      ]
    },
    {
      "cell_type": "code",
      "execution_count": null,
      "id": "087f3a6b",
      "metadata": {
        "id": "087f3a6b"
      },
      "outputs": [],
      "source": [
        "# Predict on testing set\n",
        "trainpred4rbf = svm.predict(x_train)\n",
        "# Predict on testing set\n",
        "testpred4rbf = svm.predict(x_test)"
      ]
    },
    {
      "cell_type": "code",
      "execution_count": null,
      "id": "9029bda8",
      "metadata": {
        "colab": {
          "base_uri": "https://localhost:8080/"
        },
        "id": "9029bda8",
        "outputId": "a174e3d5-e758-48d7-d557-d6f1f45e195c"
      },
      "outputs": [
        {
          "output_type": "execute_result",
          "data": {
            "text/plain": [
              "1.0"
            ]
          },
          "metadata": {},
          "execution_count": 84
        }
      ],
      "source": [
        "# Calculate accuracy\n",
        "trainaccuracy4rbf = accuracy_score(y_train, trainpred4rbf)\n",
        "trainaccuracy4rbf"
      ]
    },
    {
      "cell_type": "code",
      "execution_count": null,
      "id": "024d0b4d",
      "metadata": {
        "colab": {
          "base_uri": "https://localhost:8080/"
        },
        "id": "024d0b4d",
        "outputId": "51617989-6b73-4985-915a-f632c1b2215a"
      },
      "outputs": [
        {
          "output_type": "execute_result",
          "data": {
            "text/plain": [
              "0.873015873015873"
            ]
          },
          "metadata": {},
          "execution_count": 85
        }
      ],
      "source": [
        "# Calculate accuracy\n",
        "testaccuracy4rbf = accuracy_score(y_test, testpred4sigmoid)\n",
        "testaccuracy4rbf"
      ]
    },
    {
      "cell_type": "markdown",
      "id": "6807ceb3",
      "metadata": {
        "id": "6807ceb3"
      },
      "source": [
        "# NAVIE BAYES"
      ]
    },
    {
      "cell_type": "code",
      "execution_count": null,
      "id": "4142c3a0",
      "metadata": {
        "id": "4142c3a0"
      },
      "outputs": [],
      "source": [
        "from sklearn.naive_bayes import GaussianNB\n",
        "from sklearn.metrics import accuracy_score"
      ]
    },
    {
      "cell_type": "code",
      "execution_count": null,
      "id": "07863458",
      "metadata": {
        "colab": {
          "base_uri": "https://localhost:8080/"
        },
        "id": "07863458",
        "outputId": "3f17884c-5dd0-46e9-8e8e-a449616c25b9"
      },
      "outputs": [
        {
          "output_type": "execute_result",
          "data": {
            "text/plain": [
              "GaussianNB()"
            ]
          },
          "metadata": {},
          "execution_count": 87
        }
      ],
      "source": [
        "# Train Naive Bayes model\n",
        "nb = GaussianNB()\n",
        "nb.fit(x_train, y_train)"
      ]
    },
    {
      "cell_type": "code",
      "execution_count": null,
      "id": "e92114d5",
      "metadata": {
        "id": "e92114d5"
      },
      "outputs": [],
      "source": [
        "# Predict on training set\n",
        "trainpred5 = nb.predict(x_train)\n",
        "# Predict on testing set\n",
        "testpred5 = nb.predict(x_test)"
      ]
    },
    {
      "cell_type": "code",
      "execution_count": null,
      "id": "8a33b92c",
      "metadata": {
        "colab": {
          "base_uri": "https://localhost:8080/"
        },
        "id": "8a33b92c",
        "outputId": "077df5ca-a0ae-478a-c772-03315ed666d0"
      },
      "outputs": [
        {
          "output_type": "execute_result",
          "data": {
            "text/plain": [
              "0.9732620320855615"
            ]
          },
          "metadata": {},
          "execution_count": 89
        }
      ],
      "source": [
        "# Calculate accuracy\n",
        "trainaccuracy5 = accuracy_score(y_train, trainpred5)\n",
        "trainaccuracy5"
      ]
    },
    {
      "cell_type": "code",
      "execution_count": null,
      "id": "c9db75a9",
      "metadata": {
        "colab": {
          "base_uri": "https://localhost:8080/"
        },
        "id": "c9db75a9",
        "outputId": "bfdb18a1-1e8a-4eca-ce86-d1ac053ac2f2"
      },
      "outputs": [
        {
          "output_type": "execute_result",
          "data": {
            "text/plain": [
              "1.0"
            ]
          },
          "metadata": {},
          "execution_count": 90
        }
      ],
      "source": [
        "# Calculate accuracy\n",
        "testaccuracy5 = accuracy_score(y_test, testpred5)\n",
        "testaccuracy5\n"
      ]
    },
    {
      "cell_type": "markdown",
      "id": "c39fc1f8",
      "metadata": {
        "id": "c39fc1f8"
      },
      "source": [
        "# RANDOM FOREST"
      ]
    },
    {
      "cell_type": "code",
      "execution_count": null,
      "id": "f9c7b108",
      "metadata": {
        "id": "f9c7b108"
      },
      "outputs": [],
      "source": [
        "from sklearn.ensemble import RandomForestClassifier\n",
        "from sklearn.datasets import make_classification"
      ]
    },
    {
      "cell_type": "code",
      "execution_count": null,
      "id": "62e47f54",
      "metadata": {
        "id": "62e47f54"
      },
      "outputs": [],
      "source": [
        "rfc = RandomForestClassifier()"
      ]
    },
    {
      "cell_type": "code",
      "execution_count": null,
      "id": "174322ad",
      "metadata": {
        "colab": {
          "base_uri": "https://localhost:8080/"
        },
        "id": "174322ad",
        "outputId": "a74d804b-c178-431c-982a-39db4ee223ae"
      },
      "outputs": [
        {
          "output_type": "execute_result",
          "data": {
            "text/plain": [
              "RandomForestClassifier()"
            ]
          },
          "metadata": {},
          "execution_count": 93
        }
      ],
      "source": [
        "# Train the model on the training data\n",
        "rfc.fit(x_train, y_train)"
      ]
    },
    {
      "cell_type": "code",
      "execution_count": null,
      "id": "10837c19",
      "metadata": {
        "id": "10837c19"
      },
      "outputs": [],
      "source": [
        "# Make predictions on the train data\n",
        "trainpred6 = rfc.predict(x_train)\n",
        "# Make predictions on the test data\n",
        "testpred6 = rfc.predict(x_test)"
      ]
    },
    {
      "cell_type": "code",
      "execution_count": null,
      "id": "f14cdfa4",
      "metadata": {
        "colab": {
          "base_uri": "https://localhost:8080/"
        },
        "id": "f14cdfa4",
        "outputId": "b5890785-cbe6-49d0-aff1-5f04ae741fc2"
      },
      "outputs": [
        {
          "output_type": "execute_result",
          "data": {
            "text/plain": [
              "1.0"
            ]
          },
          "metadata": {},
          "execution_count": 95
        }
      ],
      "source": [
        "# Evaluate the model performance on the test data\n",
        "trainaccuracy6 = rfc.score(x_train, y_train)\n",
        "trainaccuracy6"
      ]
    },
    {
      "cell_type": "code",
      "execution_count": null,
      "id": "0760d27c",
      "metadata": {
        "colab": {
          "base_uri": "https://localhost:8080/"
        },
        "id": "0760d27c",
        "outputId": "7f20ef59-646e-48f1-8e40-a667b83510ee"
      },
      "outputs": [
        {
          "output_type": "execute_result",
          "data": {
            "text/plain": [
              "1.0"
            ]
          },
          "metadata": {},
          "execution_count": 96
        }
      ],
      "source": [
        "# Evaluate the model performance on the test data\n",
        "testaccuracy6 = rfc.score(x_test, y_test)\n",
        "testaccuracy6"
      ]
    },
    {
      "cell_type": "markdown",
      "id": "6b825dfb",
      "metadata": {
        "id": "6b825dfb"
      },
      "source": [
        "# BAGGING CLASSIFIER"
      ]
    },
    {
      "cell_type": "code",
      "execution_count": null,
      "id": "02230431",
      "metadata": {
        "id": "02230431"
      },
      "outputs": [],
      "source": [
        "from sklearn.ensemble import BaggingClassifier\n",
        "from sklearn.tree import DecisionTreeClassifier\n",
        "from sklearn.datasets import make_classification"
      ]
    },
    {
      "cell_type": "code",
      "execution_count": null,
      "id": "daed4829",
      "metadata": {
        "id": "daed4829"
      },
      "outputs": [],
      "source": [
        "# Generate a random dataset for classification\n",
        "X, y = make_classification(n_samples=150, random_state=42)"
      ]
    },
    {
      "cell_type": "code",
      "execution_count": null,
      "id": "0da757b0",
      "metadata": {
        "id": "0da757b0"
      },
      "outputs": [],
      "source": [
        "# Create a decision tree classifier\n",
        "dtc = DecisionTreeClassifier(max_depth=3,random_state=42)"
      ]
    },
    {
      "cell_type": "code",
      "execution_count": null,
      "id": "7753b06b",
      "metadata": {
        "id": "7753b06b"
      },
      "outputs": [],
      "source": [
        "# Create a bagging classifier with 100 decision trees\n",
        "bagging = BaggingClassifier(dtc, n_estimators=100, random_state=42)"
      ]
    },
    {
      "cell_type": "code",
      "execution_count": null,
      "id": "381f15a2",
      "metadata": {
        "colab": {
          "base_uri": "https://localhost:8080/"
        },
        "id": "381f15a2",
        "outputId": "403cc1fc-1211-41d7-cf24-374a3afe3347"
      },
      "outputs": [
        {
          "output_type": "execute_result",
          "data": {
            "text/plain": [
              "BaggingClassifier(base_estimator=DecisionTreeClassifier(max_depth=3,\n",
              "                                                        random_state=42),\n",
              "                  n_estimators=100, random_state=42)"
            ]
          },
          "metadata": {},
          "execution_count": 101
        }
      ],
      "source": [
        "# Train the model on the training data\n",
        "bagging.fit(x_train, y_train)"
      ]
    },
    {
      "cell_type": "code",
      "execution_count": null,
      "id": "a6a586bc",
      "metadata": {
        "id": "a6a586bc"
      },
      "outputs": [],
      "source": [
        "# Make predictions on the train data\n",
        "trainpred7 = bagging.predict(x_train)\n",
        "# Make predictions on the test data\n",
        "testpred7 = bagging.predict(x_test)"
      ]
    },
    {
      "cell_type": "code",
      "execution_count": null,
      "id": "7768e4cb",
      "metadata": {
        "colab": {
          "base_uri": "https://localhost:8080/"
        },
        "id": "7768e4cb",
        "outputId": "bbdc51e1-4622-4a79-d41e-b909835eb11d"
      },
      "outputs": [
        {
          "output_type": "execute_result",
          "data": {
            "text/plain": [
              "1.0"
            ]
          },
          "metadata": {},
          "execution_count": 103
        }
      ],
      "source": [
        "# Evaluate the model performance on the test data\n",
        "trainaccuracy7 = bagging.score(x_train, y_train)\n",
        "trainaccuracy7\n"
      ]
    },
    {
      "cell_type": "code",
      "execution_count": null,
      "id": "e7f094bc",
      "metadata": {
        "colab": {
          "base_uri": "https://localhost:8080/"
        },
        "id": "e7f094bc",
        "outputId": "53a318c4-9722-4a16-a001-6eb3ef3b1449"
      },
      "outputs": [
        {
          "output_type": "execute_result",
          "data": {
            "text/plain": [
              "0.9841269841269841"
            ]
          },
          "metadata": {},
          "execution_count": 104
        }
      ],
      "source": [
        "# Evaluate the model performance on the test data\n",
        "testaccuracy7 = bagging.score(x_test, y_test)\n",
        "testaccuracy7\n"
      ]
    },
    {
      "cell_type": "markdown",
      "id": "12be49b0",
      "metadata": {
        "id": "12be49b0"
      },
      "source": [
        "# BOOSTING"
      ]
    },
    {
      "cell_type": "code",
      "execution_count": null,
      "id": "53c2c2ff",
      "metadata": {
        "id": "53c2c2ff"
      },
      "outputs": [],
      "source": [
        "from sklearn.ensemble import AdaBoostClassifier\n",
        "from sklearn.tree import DecisionTreeClassifier\n",
        "from sklearn.datasets import make_classification"
      ]
    },
    {
      "cell_type": "code",
      "execution_count": null,
      "id": "b4267193",
      "metadata": {
        "id": "b4267193"
      },
      "outputs": [],
      "source": [
        "# Generate a random dataset for classification\n",
        "X, y = make_classification(n_samples=150, random_state=42)"
      ]
    },
    {
      "cell_type": "code",
      "execution_count": null,
      "id": "702ad81d",
      "metadata": {
        "id": "702ad81d"
      },
      "outputs": [],
      "source": [
        "# Create a decision tree classifier\n",
        "dtc = DecisionTreeClassifier(max_depth=3,random_state=42)"
      ]
    },
    {
      "cell_type": "code",
      "execution_count": null,
      "id": "70b50bc1",
      "metadata": {
        "id": "70b50bc1"
      },
      "outputs": [],
      "source": [
        "# Create a bagging classifier with 100 decision trees\n",
        "boosting =AdaBoostClassifier (dtc, n_estimators=100, random_state=42)"
      ]
    },
    {
      "cell_type": "code",
      "execution_count": null,
      "id": "f30d5ed3",
      "metadata": {
        "colab": {
          "base_uri": "https://localhost:8080/"
        },
        "id": "f30d5ed3",
        "outputId": "1e0c4707-fb0a-47e7-9870-0b875551b45e"
      },
      "outputs": [
        {
          "output_type": "execute_result",
          "data": {
            "text/plain": [
              "AdaBoostClassifier(base_estimator=DecisionTreeClassifier(max_depth=3,\n",
              "                                                         random_state=42),\n",
              "                   n_estimators=100, random_state=42)"
            ]
          },
          "metadata": {},
          "execution_count": 109
        }
      ],
      "source": [
        "# Train the model on the training data\n",
        "boosting.fit(x_train, y_train)"
      ]
    },
    {
      "cell_type": "code",
      "execution_count": null,
      "id": "a6349bf8",
      "metadata": {
        "id": "a6349bf8"
      },
      "outputs": [],
      "source": [
        "# Make predictions on the train data\n",
        "trainpred8 = boosting.predict(x_train)\n",
        "# Make predictions on the test data\n",
        "testpred8 = boosting.predict(x_test)"
      ]
    },
    {
      "cell_type": "code",
      "execution_count": null,
      "id": "16bf46a5",
      "metadata": {
        "colab": {
          "base_uri": "https://localhost:8080/"
        },
        "id": "16bf46a5",
        "outputId": "ba0946d6-4ab5-4e92-cacd-dde9a72fd707"
      },
      "outputs": [
        {
          "output_type": "execute_result",
          "data": {
            "text/plain": [
              "1.0"
            ]
          },
          "metadata": {},
          "execution_count": 111
        }
      ],
      "source": [
        "# Evaluate the model performance on the train data\n",
        "trainaccuracy8 = boosting.score(x_train, y_train)\n",
        "trainaccuracy8"
      ]
    },
    {
      "cell_type": "code",
      "execution_count": null,
      "id": "dc5e73af",
      "metadata": {
        "colab": {
          "base_uri": "https://localhost:8080/"
        },
        "id": "dc5e73af",
        "outputId": "8f96cda3-cf68-4168-a442-8fe66e6748b2"
      },
      "outputs": [
        {
          "output_type": "execute_result",
          "data": {
            "text/plain": [
              "0.9841269841269841"
            ]
          },
          "metadata": {},
          "execution_count": 112
        }
      ],
      "source": [
        "# Evaluate the model performance on the test data\n",
        "testaccuracy8 = boosting.score(x_test, y_test)\n",
        "testaccuracy8"
      ]
    },
    {
      "cell_type": "markdown",
      "id": "3f96668a",
      "metadata": {
        "id": "3f96668a"
      },
      "source": [
        "# STACKING"
      ]
    },
    {
      "cell_type": "code",
      "execution_count": null,
      "id": "0a2c669e",
      "metadata": {
        "id": "0a2c669e"
      },
      "outputs": [],
      "source": [
        "from sklearn.ensemble import StackingClassifier"
      ]
    },
    {
      "cell_type": "code",
      "execution_count": null,
      "id": "179ea7ab",
      "metadata": {
        "id": "179ea7ab"
      },
      "outputs": [],
      "source": [
        "# Create a list of base estimators (i.e., the models to be stacked)\n",
        "estimators = [('rfC', RandomForestClassifier()),\n",
        "              ('lr', LogisticRegression())]"
      ]
    },
    {
      "cell_type": "code",
      "execution_count": null,
      "id": "8fa03a2e",
      "metadata": {
        "id": "8fa03a2e"
      },
      "outputs": [],
      "source": [
        "# Create a stacking classifier with a logistic regression meta-estimator\n",
        "stacking = StackingClassifier(estimators=estimators, final_estimator=LogisticRegression())"
      ]
    },
    {
      "cell_type": "code",
      "execution_count": null,
      "id": "535f0b8b",
      "metadata": {
        "colab": {
          "base_uri": "https://localhost:8080/"
        },
        "id": "535f0b8b",
        "outputId": "d3a22d3a-7821-4863-b305-1dac9fcfef46"
      },
      "outputs": [
        {
          "output_type": "execute_result",
          "data": {
            "text/plain": [
              "StackingClassifier(estimators=[('rfC', RandomForestClassifier()),\n",
              "                               ('lr', LogisticRegression())],\n",
              "                   final_estimator=LogisticRegression())"
            ]
          },
          "metadata": {},
          "execution_count": 116
        }
      ],
      "source": [
        "# Train the model on the training data\n",
        "stacking.fit(x_train, y_train)"
      ]
    },
    {
      "cell_type": "code",
      "execution_count": null,
      "id": "40da4f5b",
      "metadata": {
        "id": "40da4f5b"
      },
      "outputs": [],
      "source": [
        "# Make predictions on the train data\n",
        "trainpred9 = stacking.predict(x_train)\n",
        "# Make predictions on the test data\n",
        "testpred9 = stacking.predict(x_test)"
      ]
    },
    {
      "cell_type": "code",
      "execution_count": null,
      "id": "42cc4f3e",
      "metadata": {
        "colab": {
          "base_uri": "https://localhost:8080/"
        },
        "id": "42cc4f3e",
        "outputId": "39307b71-f191-47a4-a832-2aefcef605e6"
      },
      "outputs": [
        {
          "output_type": "stream",
          "name": "stdout",
          "text": [
            "trainaccuracy9: 100.00%\n"
          ]
        }
      ],
      "source": [
        "# Evaluate the model performance on the train data\n",
        "trainaccuracy9 = stacking.score(x_train, y_train)\n",
        "print(\"trainaccuracy9: {:.2f}%\".format(trainaccuracy9*100))"
      ]
    },
    {
      "cell_type": "code",
      "execution_count": null,
      "id": "8a0e02d1",
      "metadata": {
        "colab": {
          "base_uri": "https://localhost:8080/"
        },
        "id": "8a0e02d1",
        "outputId": "e1fc72f0-375d-44fc-a12a-b4d2798efd17"
      },
      "outputs": [
        {
          "output_type": "stream",
          "name": "stdout",
          "text": [
            "testaccuracy9: 100.00%\n"
          ]
        }
      ],
      "source": [
        "# Evaluate the model performance on the test data\n",
        "testaccuracy9 = stacking.score(x_test, y_test)\n",
        "print(\"testaccuracy9: {:.2f}%\".format(testaccuracy9*100))"
      ]
    },
    {
      "cell_type": "markdown",
      "id": "187b46e3",
      "metadata": {
        "id": "187b46e3"
      },
      "source": [
        "# scores"
      ]
    },
    {
      "cell_type": "code",
      "execution_count": null,
      "id": "e78a8071",
      "metadata": {
        "colab": {
          "base_uri": "https://localhost:8080/",
          "height": 457
        },
        "id": "e78a8071",
        "outputId": "af784f95-e2ca-45ef-957d-3970e2917f3b"
      },
      "outputs": [
        {
          "output_type": "execute_result",
          "data": {
            "text/plain": [
              "                              MODEL  TRAINING_ACCURACY  TESTING_ACCURACY\n",
              "0                               KNN           0.989305          0.984127\n",
              "1            Decision Tree(entropy)           1.000000          0.984127\n",
              "2               Decision Tree(gini)           1.000000          0.984127\n",
              "3               logistic regression           0.994652          1.000000\n",
              "4    support vector machine(linear)           0.994652          1.000000\n",
              "5      support vector machine(poly)           1.000000          0.984127\n",
              "6   support vector machine(sigmoid)           0.754011          0.873016\n",
              "7       support vector machine(rbf)           1.000000          0.873016\n",
              "8                       NAVIE BAYES           0.973262          1.000000\n",
              "9                     RANDOM FOREST           1.000000          1.000000\n",
              "10               BAGGING CLASSIFIER           1.000000          0.984127\n",
              "11                         BOOSTING           1.000000          0.984127\n",
              "12                         STACKING           1.000000          1.000000"
            ],
            "text/html": [
              "\n",
              "  <div id=\"df-8cf02db3-b954-4f8c-b500-e14b34d32c93\">\n",
              "    <div class=\"colab-df-container\">\n",
              "      <div>\n",
              "<style scoped>\n",
              "    .dataframe tbody tr th:only-of-type {\n",
              "        vertical-align: middle;\n",
              "    }\n",
              "\n",
              "    .dataframe tbody tr th {\n",
              "        vertical-align: top;\n",
              "    }\n",
              "\n",
              "    .dataframe thead th {\n",
              "        text-align: right;\n",
              "    }\n",
              "</style>\n",
              "<table border=\"1\" class=\"dataframe\">\n",
              "  <thead>\n",
              "    <tr style=\"text-align: right;\">\n",
              "      <th></th>\n",
              "      <th>MODEL</th>\n",
              "      <th>TRAINING_ACCURACY</th>\n",
              "      <th>TESTING_ACCURACY</th>\n",
              "    </tr>\n",
              "  </thead>\n",
              "  <tbody>\n",
              "    <tr>\n",
              "      <th>0</th>\n",
              "      <td>KNN</td>\n",
              "      <td>0.989305</td>\n",
              "      <td>0.984127</td>\n",
              "    </tr>\n",
              "    <tr>\n",
              "      <th>1</th>\n",
              "      <td>Decision Tree(entropy)</td>\n",
              "      <td>1.000000</td>\n",
              "      <td>0.984127</td>\n",
              "    </tr>\n",
              "    <tr>\n",
              "      <th>2</th>\n",
              "      <td>Decision Tree(gini)</td>\n",
              "      <td>1.000000</td>\n",
              "      <td>0.984127</td>\n",
              "    </tr>\n",
              "    <tr>\n",
              "      <th>3</th>\n",
              "      <td>logistic regression</td>\n",
              "      <td>0.994652</td>\n",
              "      <td>1.000000</td>\n",
              "    </tr>\n",
              "    <tr>\n",
              "      <th>4</th>\n",
              "      <td>support vector machine(linear)</td>\n",
              "      <td>0.994652</td>\n",
              "      <td>1.000000</td>\n",
              "    </tr>\n",
              "    <tr>\n",
              "      <th>5</th>\n",
              "      <td>support vector machine(poly)</td>\n",
              "      <td>1.000000</td>\n",
              "      <td>0.984127</td>\n",
              "    </tr>\n",
              "    <tr>\n",
              "      <th>6</th>\n",
              "      <td>support vector machine(sigmoid)</td>\n",
              "      <td>0.754011</td>\n",
              "      <td>0.873016</td>\n",
              "    </tr>\n",
              "    <tr>\n",
              "      <th>7</th>\n",
              "      <td>support vector machine(rbf)</td>\n",
              "      <td>1.000000</td>\n",
              "      <td>0.873016</td>\n",
              "    </tr>\n",
              "    <tr>\n",
              "      <th>8</th>\n",
              "      <td>NAVIE BAYES</td>\n",
              "      <td>0.973262</td>\n",
              "      <td>1.000000</td>\n",
              "    </tr>\n",
              "    <tr>\n",
              "      <th>9</th>\n",
              "      <td>RANDOM FOREST</td>\n",
              "      <td>1.000000</td>\n",
              "      <td>1.000000</td>\n",
              "    </tr>\n",
              "    <tr>\n",
              "      <th>10</th>\n",
              "      <td>BAGGING CLASSIFIER</td>\n",
              "      <td>1.000000</td>\n",
              "      <td>0.984127</td>\n",
              "    </tr>\n",
              "    <tr>\n",
              "      <th>11</th>\n",
              "      <td>BOOSTING</td>\n",
              "      <td>1.000000</td>\n",
              "      <td>0.984127</td>\n",
              "    </tr>\n",
              "    <tr>\n",
              "      <th>12</th>\n",
              "      <td>STACKING</td>\n",
              "      <td>1.000000</td>\n",
              "      <td>1.000000</td>\n",
              "    </tr>\n",
              "  </tbody>\n",
              "</table>\n",
              "</div>\n",
              "      <button class=\"colab-df-convert\" onclick=\"convertToInteractive('df-8cf02db3-b954-4f8c-b500-e14b34d32c93')\"\n",
              "              title=\"Convert this dataframe to an interactive table.\"\n",
              "              style=\"display:none;\">\n",
              "        \n",
              "  <svg xmlns=\"http://www.w3.org/2000/svg\" height=\"24px\"viewBox=\"0 0 24 24\"\n",
              "       width=\"24px\">\n",
              "    <path d=\"M0 0h24v24H0V0z\" fill=\"none\"/>\n",
              "    <path d=\"M18.56 5.44l.94 2.06.94-2.06 2.06-.94-2.06-.94-.94-2.06-.94 2.06-2.06.94zm-11 1L8.5 8.5l.94-2.06 2.06-.94-2.06-.94L8.5 2.5l-.94 2.06-2.06.94zm10 10l.94 2.06.94-2.06 2.06-.94-2.06-.94-.94-2.06-.94 2.06-2.06.94z\"/><path d=\"M17.41 7.96l-1.37-1.37c-.4-.4-.92-.59-1.43-.59-.52 0-1.04.2-1.43.59L10.3 9.45l-7.72 7.72c-.78.78-.78 2.05 0 2.83L4 21.41c.39.39.9.59 1.41.59.51 0 1.02-.2 1.41-.59l7.78-7.78 2.81-2.81c.8-.78.8-2.07 0-2.86zM5.41 20L4 18.59l7.72-7.72 1.47 1.35L5.41 20z\"/>\n",
              "  </svg>\n",
              "      </button>\n",
              "      \n",
              "  <style>\n",
              "    .colab-df-container {\n",
              "      display:flex;\n",
              "      flex-wrap:wrap;\n",
              "      gap: 12px;\n",
              "    }\n",
              "\n",
              "    .colab-df-convert {\n",
              "      background-color: #E8F0FE;\n",
              "      border: none;\n",
              "      border-radius: 50%;\n",
              "      cursor: pointer;\n",
              "      display: none;\n",
              "      fill: #1967D2;\n",
              "      height: 32px;\n",
              "      padding: 0 0 0 0;\n",
              "      width: 32px;\n",
              "    }\n",
              "\n",
              "    .colab-df-convert:hover {\n",
              "      background-color: #E2EBFA;\n",
              "      box-shadow: 0px 1px 2px rgba(60, 64, 67, 0.3), 0px 1px 3px 1px rgba(60, 64, 67, 0.15);\n",
              "      fill: #174EA6;\n",
              "    }\n",
              "\n",
              "    [theme=dark] .colab-df-convert {\n",
              "      background-color: #3B4455;\n",
              "      fill: #D2E3FC;\n",
              "    }\n",
              "\n",
              "    [theme=dark] .colab-df-convert:hover {\n",
              "      background-color: #434B5C;\n",
              "      box-shadow: 0px 1px 3px 1px rgba(0, 0, 0, 0.15);\n",
              "      filter: drop-shadow(0px 1px 2px rgba(0, 0, 0, 0.3));\n",
              "      fill: #FFFFFF;\n",
              "    }\n",
              "  </style>\n",
              "\n",
              "      <script>\n",
              "        const buttonEl =\n",
              "          document.querySelector('#df-8cf02db3-b954-4f8c-b500-e14b34d32c93 button.colab-df-convert');\n",
              "        buttonEl.style.display =\n",
              "          google.colab.kernel.accessAllowed ? 'block' : 'none';\n",
              "\n",
              "        async function convertToInteractive(key) {\n",
              "          const element = document.querySelector('#df-8cf02db3-b954-4f8c-b500-e14b34d32c93');\n",
              "          const dataTable =\n",
              "            await google.colab.kernel.invokeFunction('convertToInteractive',\n",
              "                                                     [key], {});\n",
              "          if (!dataTable) return;\n",
              "\n",
              "          const docLinkHtml = 'Like what you see? Visit the ' +\n",
              "            '<a target=\"_blank\" href=https://colab.research.google.com/notebooks/data_table.ipynb>data table notebook</a>'\n",
              "            + ' to learn more about interactive tables.';\n",
              "          element.innerHTML = '';\n",
              "          dataTable['output_type'] = 'display_data';\n",
              "          await google.colab.output.renderOutput(dataTable, element);\n",
              "          const docLink = document.createElement('div');\n",
              "          docLink.innerHTML = docLinkHtml;\n",
              "          element.appendChild(docLink);\n",
              "        }\n",
              "      </script>\n",
              "    </div>\n",
              "  </div>\n",
              "  "
            ]
          },
          "metadata": {},
          "execution_count": 120
        }
      ],
      "source": [
        "data={\"MODEL\":pd.Series([\"KNN\",\"Decision Tree(entropy)\",\"Decision Tree(gini)\",\"logistic regression\",\"support vector machine(linear)\",\"support vector machine(poly)\",\"support vector machine(sigmoid)\",\"support vector machine(rbf)\",\"NAVIE BAYES\",\"RANDOM FOREST\",\"BAGGING CLASSIFIER\",\"BOOSTING\",\"STACKING\"]),\n",
        "     \"TRAINING_ACCURACY\":pd.Series([trainaccuracy1,trainaccuracy2,accuracy2ginitraining,trainaccuracy3,trainaccuracy4,trainaccuracy4poly,trainaccuracy4sigmoid,trainaccuracy4rbf,trainaccuracy5,trainaccuracy6,trainaccuracy7,trainaccuracy8,trainaccuracy9]),\n",
        "    \"TESTING_ACCURACY\":pd.Series([testaccuracy1,testaccuracy2,accuracy2ginitesting,testaccuracy3,testaccuracy4,testaccuracy4poly,testaccuracy4sigmoid,testaccuracy4rbf,testaccuracy5,testaccuracy6,testaccuracy7,testaccuracy8,testaccuracy9])}\n",
        "table=pd.DataFrame(data)\n",
        "table  "
      ]
    },
    {
      "cell_type": "markdown",
      "id": "bf7fcfaa",
      "metadata": {
        "id": "bf7fcfaa"
      },
      "source": [
        "# making a prediction system"
      ]
    },
    {
      "cell_type": "code",
      "execution_count": null,
      "id": "61a4e750",
      "metadata": {
        "colab": {
          "base_uri": "https://localhost:8080/"
        },
        "id": "61a4e750",
        "outputId": "7822679a-c737-4b76-ca17-2de78923c12a"
      },
      "outputs": [
        {
          "output_type": "stream",
          "name": "stdout",
          "text": [
            "[1]\n",
            "The company is bankrupt\n"
          ]
        }
      ],
      "source": [
        "input_data=(0.5,0,0,0.5,0,1)\n",
        "#changing the input_data to numpy array\n",
        "input_data_as_numpy_array=np.asarray(input_data)\n",
        "#reshape the array as we predicting for one instance\n",
        "input_data_reshaped=input_data_as_numpy_array.reshape(1,-1)\n",
        "prediction=rfc.predict(input_data_reshaped)\n",
        "print(prediction)\n",
        "if(prediction[0]==0):\n",
        "    print(\"The company is non-bankrupt\")\n",
        "else:\n",
        "    print(\"The company is bankrupt\")\n"
      ]
    },
    {
      "cell_type": "markdown",
      "id": "812afa60",
      "metadata": {
        "id": "812afa60"
      },
      "source": [
        "# DEPLOYMENT"
      ]
    },
    {
      "cell_type": "code",
      "execution_count": null,
      "id": "e872ef85",
      "metadata": {
        "id": "e872ef85"
      },
      "outputs": [],
      "source": [
        "import pickle"
      ]
    },
    {
      "cell_type": "code",
      "source": [
        "filename=\"trained_model.sav\"\n",
        "pickle.dump(rfc,open(filename,\"wb\"))"
      ],
      "metadata": {
        "id": "vCD-bxJ4oj9n"
      },
      "id": "vCD-bxJ4oj9n",
      "execution_count": null,
      "outputs": []
    },
    {
      "cell_type": "code",
      "source": [
        "#loaded the saved model\n",
        "loaded_model=pickle.load(open(\"trained_model.sav\",\"rb\"))"
      ],
      "metadata": {
        "id": "b7GHLpsiph3X"
      },
      "id": "b7GHLpsiph3X",
      "execution_count": null,
      "outputs": []
    },
    {
      "cell_type": "code",
      "source": [
        "input_data=(0.5,0,0,0.5,0,1)\n",
        "#changing the input_data to numpy array\n",
        "input_data_as_numpy_array=np.asarray(input_data)\n",
        "#reshape the array as we predicting for one instance\n",
        "input_data_reshaped=input_data_as_numpy_array.reshape(1,-1)\n",
        "prediction=loaded_model.predict(input_data_reshaped)\n",
        "print(prediction)\n",
        "if(prediction[0]==0):\n",
        "    print(\"The company is non-bankrupt\")\n",
        "else:\n",
        "    print(\"The company is bankrupt\")\n"
      ],
      "metadata": {
        "colab": {
          "base_uri": "https://localhost:8080/"
        },
        "id": "j4XYHYusqvtG",
        "outputId": "64c91ddd-ad48-419f-fd54-136b2c9cec0d"
      },
      "id": "j4XYHYusqvtG",
      "execution_count": null,
      "outputs": [
        {
          "output_type": "stream",
          "name": "stdout",
          "text": [
            "[1]\n",
            "The company is bankrupt\n"
          ]
        }
      ]
    },
    {
      "cell_type": "code",
      "source": [],
      "metadata": {
        "id": "Mqko-CD8q9Fb"
      },
      "id": "Mqko-CD8q9Fb",
      "execution_count": null,
      "outputs": []
    }
  ],
  "metadata": {
    "kernelspec": {
      "display_name": "Python 3 (ipykernel)",
      "language": "python",
      "name": "python3"
    },
    "language_info": {
      "codemirror_mode": {
        "name": "ipython",
        "version": 3
      },
      "file_extension": ".py",
      "mimetype": "text/x-python",
      "name": "python",
      "nbconvert_exporter": "python",
      "pygments_lexer": "ipython3",
      "version": "3.9.12"
    },
    "colab": {
      "provenance": []
    }
  },
  "nbformat": 4,
  "nbformat_minor": 5
}